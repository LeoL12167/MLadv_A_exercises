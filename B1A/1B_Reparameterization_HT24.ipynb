{
  "cells": [
    {
      "cell_type": "markdown",
      "metadata": {
        "id": "AALnQO-y6HOz"
      },
      "source": [
        "# ***Reparameterization of common distributions***\n",
        "\n",
        "\n",
        "\n"
      ]
    },
    {
      "cell_type": "markdown",
      "metadata": {
        "id": "wRc3KUnVPHm9"
      },
      "source": [
        "We will work with Torch throughout this notebook."
      ]
    },
    {
      "cell_type": "code",
      "execution_count": 1,
      "metadata": {
        "id": "9hD0wA4YPFzy"
      },
      "outputs": [
        {
          "name": "stdout",
          "output_type": "stream",
          "text": [
            "Requirement already satisfied: torch in c:\\users\\andre\\appdata\\local\\programs\\python\\python312\\lib\\site-packages (2.5.1)Note: you may need to restart the kernel to use updated packages.\n",
            "\n",
            "Requirement already satisfied: filelock in c:\\users\\andre\\appdata\\local\\programs\\python\\python312\\lib\\site-packages (from torch) (3.16.1)\n",
            "Requirement already satisfied: typing-extensions>=4.8.0 in c:\\users\\andre\\appdata\\local\\programs\\python\\python312\\lib\\site-packages (from torch) (4.12.2)\n",
            "Requirement already satisfied: networkx in c:\\users\\andre\\appdata\\local\\programs\\python\\python312\\lib\\site-packages (from torch) (3.2.1)\n",
            "Requirement already satisfied: jinja2 in c:\\users\\andre\\appdata\\local\\programs\\python\\python312\\lib\\site-packages (from torch) (3.1.4)\n",
            "Requirement already satisfied: fsspec in c:\\users\\andre\\appdata\\local\\programs\\python\\python312\\lib\\site-packages (from torch) (2024.10.0)\n",
            "Requirement already satisfied: setuptools in c:\\users\\andre\\appdata\\local\\programs\\python\\python312\\lib\\site-packages (from torch) (69.0.2)\n",
            "Requirement already satisfied: sympy==1.13.1 in c:\\users\\andre\\appdata\\local\\programs\\python\\python312\\lib\\site-packages (from torch) (1.13.1)\n",
            "Requirement already satisfied: mpmath<1.4,>=1.1.0 in c:\\users\\andre\\appdata\\local\\programs\\python\\python312\\lib\\site-packages (from sympy==1.13.1->torch) (1.3.0)\n",
            "Requirement already satisfied: MarkupSafe>=2.0 in c:\\users\\andre\\appdata\\local\\programs\\python\\python312\\lib\\site-packages (from jinja2->torch) (2.1.5)\n"
          ]
        }
      ],
      "source": [
        "# Install the torch package\n",
        "%pip install torch\n",
        "\n",
        "import torch\n",
        "from torch.distributions import Beta #, ...  import the distributions you need here\n",
        "from torch.nn import functional as F"
      ]
    },
    {
      "cell_type": "markdown",
      "metadata": {
        "id": "Oqjx4h2_6ifq"
      },
      "source": [
        "### ***Q1. Beta Distribution***\n",
        "Below write a function that generates N samples from $Beta(a,b)$"
      ]
    },
    {
      "cell_type": "code",
      "execution_count": 3,
      "metadata": {
        "id": "tZIdS5CG6AwI"
      },
      "outputs": [],
      "source": [
        "def beta_sampler(a, b, N):\n",
        "  # insert your code\n",
        "  \n",
        "  # create a Beta distribution object\n",
        "  beta = Beta(a, b)\n",
        "\n",
        "  # sample from the Beta distribution\n",
        "  samples = beta.sample((N,))\n",
        "\n",
        "  return samples # should be N-by-1"
      ]
    },
    {
      "cell_type": "markdown",
      "metadata": {
        "id": "QLJhOusWPtlp"
      },
      "source": [
        "Now, reparameterize $Beta(a,b)$ via Kumaraswamy(a,b) approximation:"
      ]
    },
    {
      "cell_type": "code",
      "execution_count": 2,
      "metadata": {
        "id": "GlC1BoQM8hJ5"
      },
      "outputs": [],
      "source": [
        "def beta_reparametrize(a, b, N):\n",
        "    \"\"\"\n",
        "    Approximate sampling from Beta(a, b) by reparameterizing via Kumaraswamy(a, b).\n",
        "    \n",
        "    Kumaraswamy(a, b) random variable X can be sampled by:\n",
        "        X = (1 - U^(1/b))^(1/a)\n",
        "    where U ~ Uniform(0, 1).\n",
        "    \n",
        "    This yields an approximation to Beta(a, b) but also provides\n",
        "    a closed-form reparameterization (useful for gradient-based methods).\n",
        "    \n",
        "    Args:\n",
        "        a (torch.Tensor): shape parameters 'a' (can be scalar or tensor).\n",
        "        b (torch.Tensor): shape parameters 'b' (can be scalar or tensor).\n",
        "        N (int): number of samples to draw.\n",
        "        \n",
        "    Returns:\n",
        "        torch.Tensor: a tensor of size (N,) containing samples.\n",
        "    \"\"\"\n",
        "\n",
        "    # Draw N samples from Uniform(0,1)\n",
        "    u = torch.rand(N, device=a.device if isinstance(a, torch.Tensor) else None)\n",
        "    \n",
        "    # Reparameterize via Kumaraswamy\n",
        "    # X = (1 - U^(1/b))^(1/a)\n",
        "    # (Keep careful track of types to avoid errors if a,b are scalars or tensors.)\n",
        "    x = (1.0 - u.pow(1.0 / b)).pow(1.0 / a)\n",
        "    \n",
        "    return x"
      ]
    },
    {
      "cell_type": "markdown",
      "metadata": {
        "id": "qhcRxrXpQFeL"
      },
      "source": [
        "Now, generate 1000 samples from $Beta(a,b)$, where  $a = 1 $, $ b = 0.7$, both directly and using the reparameterization."
      ]
    },
    {
      "cell_type": "code",
      "execution_count": 4,
      "metadata": {
        "id": "Fsx3z9K_8NBk"
      },
      "outputs": [],
      "source": [
        "a = 1\n",
        "b = 0.7\n",
        "N = 1000\n",
        "direct_samples = beta_sampler(a, b, N)\n",
        "reparametrized_samples = beta_reparametrize(a, b, N)"
      ]
    },
    {
      "cell_type": "markdown",
      "metadata": {
        "id": "HSQ2cI-_QeEW"
      },
      "source": [
        "A helper function to visualize the generated samples:"
      ]
    },
    {
      "cell_type": "code",
      "execution_count": 5,
      "metadata": {
        "id": "8U4TWTzs9KVd"
      },
      "outputs": [],
      "source": [
        "import matplotlib.pyplot as plt\n",
        "def compare_samples (samples_1, samples_2, bins=100, range=None):\n",
        "  fig = plt.figure()\n",
        "  if range is not None:\n",
        "    plt.hist(samples_1, bins=bins, range=range)\n",
        "    plt.hist(samples_2, bins=bins, range=range)\n",
        "  else:\n",
        "    plt.hist(samples_1, bins=bins)\n",
        "    plt.hist(samples_2, bins=bins)\n",
        "  plt.xlabel('value')\n",
        "  plt.ylabel('number of samples')\n",
        "  plt.legend(['direct','via reparameterization'])\n",
        "  plt.show()"
      ]
    },
    {
      "cell_type": "markdown",
      "metadata": {
        "id": "ntIes7KCRHvR"
      },
      "source": [
        "Compare the generated samples:"
      ]
    },
    {
      "cell_type": "code",
      "execution_count": 6,
      "metadata": {
        "id": "HkrFgrqi-KoW"
      },
      "outputs": [
        {
          "data": {
            "image/png": "[encoded data removed]",
            "text/plain": [
              "<Figure size 640x480 with 1 Axes>"
            ]
          },
          "metadata": {},
          "output_type": "display_data"
        }
      ],
      "source": [
        "compare_samples (direct_samples, reparametrized_samples)"
      ]
    },
    {
      "cell_type": "markdown",
      "metadata": {
        "id": "-YATmfnnBRsS"
      },
      "source": [
        "### ***Q2. Dirichlet Distribution***\n"
      ]
    },
    {
      "cell_type": "markdown",
      "metadata": {
        "id": "-o2kMLV_WA81"
      },
      "source": [
        "Write a function that generates N samples from Dirichlet ($\\alpha$), where $\\alpha = [\\alpha_0, \\alpha_1, \\alpha_2]$."
      ]
    },
    {
      "cell_type": "code",
      "execution_count": 9,
      "metadata": {
        "id": "by1mS-yuhySU"
      },
      "outputs": [],
      "source": [
        "def dirichlet_sampler(alpha, N):\n",
        "  # insert your code\n",
        "  dirichlet = torch.distributions.Dirichlet(alpha)\n",
        "  samples = dirichlet.sample((N,))\n",
        "\n",
        "  return samples  # should be N-by-3"
      ]
    },
    {
      "cell_type": "markdown",
      "metadata": {
        "id": "DOy4JwskW3bt"
      },
      "source": [
        "Implement the reparameterization trick for the Dirichlet distribution:"
      ]
    },
    {
      "cell_type": "code",
      "execution_count": 7,
      "metadata": {
        "id": "obCDFRyRi3QS"
      },
      "outputs": [],
      "source": [
        "# Hint: approximate it by the Softmax-Gaussian distribution.\n",
        "def dirichlet_reparametrize(alpha, N):\n",
        "    \"\"\"\n",
        "    Approximate sampling from Dirichlet(alpha) by using a logistic-normal\n",
        "    (a.k.a. Softmax-Gaussian) reparameterization.\n",
        "    \n",
        "    Args:\n",
        "        alpha (torch.Tensor): Concentration parameters of shape (K,).\n",
        "        N (int): Number of samples to generate.\n",
        "    \n",
        "    Returns:\n",
        "        torch.Tensor: A tensor of shape (N, K) containing approximate samples\n",
        "                      from Dirichlet(alpha). Each row sums to ~1.\n",
        "    \"\"\"\n",
        "    # alpha is assumed to be a 1D tensor of length K\n",
        "    # For numerical stability, ensure alpha > 0\n",
        "    if (alpha <= 0).any():\n",
        "        raise ValueError(\"All Dirichlet concentration parameters (alpha) must be > 0.\")\n",
        "    \n",
        "    # Step 1: Define mean and (diagonal) standard deviation\n",
        "    # A common heuristic: mean = log(alpha), std = 1 / sqrt(alpha).\n",
        "    mu = torch.log(alpha)\n",
        "    sigma = 1.0 / torch.sqrt(alpha)\n",
        "    \n",
        "    # Expand to shape (N, K)\n",
        "    mu = mu.unsqueeze(0).expand(N, -1)       # shape: (N, K)\n",
        "    sigma = sigma.unsqueeze(0).expand(N, -1) # shape: (N, K)\n",
        "    \n",
        "    # Step 2: Sample N x K standard normals\n",
        "    eps = torch.randn_like(mu)  # shape: (N, K)\n",
        "    \n",
        "    # Step 3: Create z ~ Normal(mu, diag(sigma^2))\n",
        "    z = mu + sigma * eps  # shape: (N, K)\n",
        "    \n",
        "    # Step 4: Convert to simplex via softmax\n",
        "    # shape: (N, K), each row sums to ~1\n",
        "    samples = torch.softmax(z, dim=-1)\n",
        "    \n",
        "    return samples"
      ]
    },
    {
      "cell_type": "markdown",
      "metadata": {
        "id": "-mwOQtQ2YCDT"
      },
      "source": [
        "Generate samples for $\\alpha= [1, 10, 1]$:"
      ]
    },
    {
      "cell_type": "code",
      "execution_count": 10,
      "metadata": {
        "id": "UOyP4ozoiABX"
      },
      "outputs": [],
      "source": [
        "alpha = torch.Tensor([1, 10, 1])\n",
        "N = 100\n",
        "direct_samples = dirichlet_sampler(alpha, N)\n",
        "reparametrized_samples = dirichlet_reparametrize(alpha, N)"
      ]
    },
    {
      "cell_type": "markdown",
      "metadata": {
        "id": "kdM74FylYj5c"
      },
      "source": [
        "A helper function to visualize dirichlet samples:"
      ]
    },
    {
      "cell_type": "code",
      "execution_count": 11,
      "metadata": {
        "id": "KaiPcmBxrmDz"
      },
      "outputs": [],
      "source": [
        "def dirichlet_plotter (samples_1, samples_2, idx):\n",
        "  fig = plt.figure()\n",
        "\n",
        "  plt.bar([1,2,3], samples_1[idx,:])\n",
        "  plt.xlabel('categories')\n",
        "  plt.ylabel('prob')\n",
        "  plt.title('direct sampling')\n",
        "  plt.xticks([1, 2, 3], ['1', '2', '3'])\n",
        "  fig = plt.figure()\n",
        "  plt.bar([1,2,3], samples_2[idx,:])\n",
        "  plt.xlabel('categories')\n",
        "  plt.ylabel('prob')\n",
        "  plt.title('via reparametrization')\n",
        "  plt.xticks([1, 2, 3], ['1', '2', '3'])\n",
        "  plt.show()"
      ]
    },
    {
      "cell_type": "markdown",
      "metadata": {
        "id": "U0UqSAjWY6Xd"
      },
      "source": [
        "Compare the samples drawn from the Dirichlet distribution and the samples drawn from the reparametrized version of it (do it for a few different idx):"
      ]
    },
    {
      "cell_type": "code",
      "execution_count": 12,
      "metadata": {
        "id": "GKrpNNLZYwCv"
      },
      "outputs": [
        {
          "data": {
            "image/png": "[encoded data removed]",
            "text/plain": [
              "<Figure size 640x480 with 1 Axes>"
            ]
          },
          "metadata": {},
          "output_type": "display_data"
        },
        {
          "data": {
            "image/png": "[encoded data removed]",
            "text/plain": [
              "<Figure size 640x480 with 1 Axes>"
            ]
          },
          "metadata": {},
          "output_type": "display_data"
        }
      ],
      "source": [
        "dirichlet_plotter(direct_samples, reparametrized_samples, idx=1) # idx= 0, 1, ..., N"
      ]
    }
  ],
  "metadata": {
    "colab": {
      "provenance": []
    },
    "kernelspec": {
      "display_name": "Python 3",
      "name": "python3"
    },
    "language_info": {
      "codemirror_mode": {
        "name": "ipython",
        "version": 3
      },
      "file_extension": ".py",
      "mimetype": "text/x-python",
      "name": "python",
      "nbconvert_exporter": "python",
      "pygments_lexer": "ipython3",
      "version": "3.12.1"
    }
  },
  "nbformat": 4,
  "nbformat_minor": 0
}
