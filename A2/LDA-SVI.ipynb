{
 "cells": [
  {
   "cell_type": "code",
   "execution_count": 23,
   "metadata": {
    "ExecuteTime": {
     "end_time": "2024-11-29T16:49:11.133625Z",
     "start_time": "2024-11-29T16:49:11.131425Z"
    },
    "collapsed": true
   },
   "outputs": [],
   "source": [
    "import time\n",
    "\n",
    "import numpy\n",
    "import matplotlib.pyplot as plt\n",
    "import numpy as np\n",
    "import scipy.special as sp_spec\n",
    "import scipy.stats as sp_stats"
   ]
  },
  {
   "cell_type": "markdown",
   "metadata": {
    "collapsed": false
   },
   "source": [
    "## Assignment 2A. Problem 2.2.8 SVI."
   ]
  },
  {
   "cell_type": "markdown",
   "metadata": {
    "collapsed": false
   },
   "source": [
    "### Generate data\n",
    "The cell below generates data for the LDA model. Note, for simplicity, we are using N_d = N for all d."
   ]
  },
  {
   "cell_type": "code",
   "execution_count": null,
   "metadata": {
    "ExecuteTime": {
     "end_time": "2024-11-29T16:49:12.115538Z",
     "start_time": "2024-11-29T16:49:11.143297Z"
    },
    "collapsed": false
   },
   "outputs": [
    {
     "name": "stdout",
     "output_type": "stream",
     "text": [
      "Average z of each document should be close to theta of document. \n",
      " Theta of doc 0: [0.140 0.860] \n",
      " Mean z of doc 0: [0.134 0.866]\n",
      "Beta of topic 0: [0.135 0.309 0.036 0.000 0.009 0.068 0.043 0.092 0.103 0.206]\n",
      "Beta of topic 1: [0.351 0.217 0.081 0.000 0.014 0.099 0.105 0.046 0.016 0.072]\n",
      "Word to topic assignment, z, of document 0: [[0.000 1.000]\n",
      " [0.000 1.000]\n",
      " [0.000 1.000]\n",
      " [0.000 1.000]\n",
      " [0.000 1.000]\n",
      " [0.000 1.000]\n",
      " [1.000 0.000]\n",
      " [0.000 1.000]\n",
      " [1.000 0.000]\n",
      " [0.000 1.000]]\n",
      "Observed words, w, of document 0: [1 9 1 0 1 6 7 1 8 0]\n",
      "Unique words and count of document 0: ['0: 330', '1: 257', '2: 61', '4: 9', '5: 87', '6: 94', '7: 52', '8: 31', '9: 79']\n"
     ]
    }
   ],
   "source": [
    "import torch\n",
    "import torch.distributions as t_dist\n",
    "\n",
    "def generate_data(D, N, K, W, eta, alpha):\n",
    "    \"\"\"\n",
    "    Torch implementation for generating data using the LDA model. Faster for larger datasets.\n",
    "    D = number of documents\n",
    "    N = number of words in each document\n",
    "    K = number of topics\n",
    "    W = number of words in vocabulary\n",
    "    \"\"\"\n",
    "    # sample K topics\n",
    "    beta_dist = t_dist.Dirichlet(torch.from_numpy(eta))\n",
    "    beta = beta_dist.sample([K])  # size K x W\n",
    "\n",
    "    # sample document topic distribution\n",
    "    theta_dist = t_dist.Dirichlet(torch.from_numpy(alpha))\n",
    "    theta = theta_dist.sample([D]) # size D x K\n",
    "\n",
    "    # sample word to topic assignment\n",
    "    z_dist = t_dist.OneHotCategorical(probs=theta)\n",
    "    z = z_dist.sample([N])\n",
    "    z = torch.einsum(\"ndk->dnk\", z)\n",
    "\n",
    "    # sample word from selected topics\n",
    "    beta_select = torch.einsum(\"kw, dnk -> dnw\", beta, z)\n",
    "    w_dist = t_dist.OneHotCategorical(probs=beta_select)\n",
    "    w = w_dist.sample([1])\n",
    "\n",
    "    w = w.reshape(D, N, W)\n",
    "\n",
    "    return w.numpy(), z.numpy(), theta.numpy(), beta.numpy()\n",
    "\n",
    "torch.manual_seed(1)\n",
    "\n",
    "D_sim = 500\n",
    "N_sim = 1000\n",
    "K_sim = 2\n",
    "W_sim = 10\n",
    "\n",
    "eta_sim = np.ones(W_sim)\n",
    "eta_sim[3] = 0.0001     # Expect word 3 to not appear in data\n",
    "eta_sim[1] = 3.         # Expect word 1 to be most common in data\n",
    "alpha_sim = np.ones(K_sim) * 1.0\n",
    "w0, z0, theta0, beta0 = generate_data(D_sim, N_sim, K_sim, W_sim, eta_sim, alpha_sim)\n",
    "w_cat = w0.argmax(axis=-1)  # remove one hot encoding\n",
    "unique_z, counts_z = numpy.unique(z0[0, :], return_counts=True)\n",
    "unique_w, counts_w = numpy.unique(w_cat[0, :], return_counts=True)\n",
    "\n",
    "# Sanity checks for data generation\n",
    "print(f\"Average z of each document should be close to theta of document. \\n Theta of doc 0: {theta0[0]}\"\n",
    "      f\" \\n Mean z of doc 0: {z0[0].mean(axis=0)}\")\n",
    "print(f\"Beta of topic 0: {beta0[0]}\")\n",
    "print(f\"Beta of topic 1: {beta0[1]}\")\n",
    "print(f\"Word to topic assignment, z, of document 0: {z0[0, 0:10]}\")\n",
    "print(f\"Observed words, w, of document 0: {w_cat[0, 0:10]}\")\n",
    "print(f\"Unique words and count of document 0: {[f'{u}: {c}' for u, c in zip(unique_w, counts_w)]}\")"
   ]
  },
  {
   "cell_type": "markdown",
   "metadata": {
    "collapsed": false
   },
   "source": [
    "### Helper functions"
   ]
  },
  {
   "cell_type": "code",
   "execution_count": 159,
   "metadata": {
    "ExecuteTime": {
     "end_time": "2024-11-29T16:49:12.182736Z",
     "start_time": "2024-11-29T16:49:12.180554Z"
    },
    "collapsed": false
   },
   "outputs": [],
   "source": [
    "def log_multivariate_beta_function(a, axis=None):\n",
    "    return np.sum(sp_spec.gammaln(a)) - sp_spec.gammaln(np.sum(a, axis=axis))"
   ]
  },
  {
   "cell_type": "markdown",
   "metadata": {
    "collapsed": false
   },
   "source": [
    "### CAVI Implementation, ELBO and initialization"
   ]
  },
  {
   "cell_type": "code",
   "execution_count": 160,
   "metadata": {
    "ExecuteTime": {
     "start_time": "2024-11-29T16:49:12.199394Z"
    },
    "collapsed": false,
    "jupyter": {
     "is_executing": true
    }
   },
   "outputs": [],
   "source": [
    "def initialize_q(w, D, N, K, W):\n",
    "    \"\"\"\n",
    "    Random initialization.\n",
    "    \"\"\"\n",
    "    phi_init = np.random.random(size=(D, N, K))\n",
    "    phi_init = phi_init / np.sum(phi_init, axis=-1, keepdims=True)\n",
    "    gamma_init = np.random.randint(1, 10, size=(D, K))\n",
    "    lmbda_init = np.random.randint(1, 10, size=(K, W))\n",
    "    return phi_init, gamma_init, lmbda_init\n",
    "\n",
    "def update_q_Z(w, gamma, lmbda):\n",
    "    D, N, W = w.shape\n",
    "    K, W = lmbda.shape\n",
    "    E_log_theta = sp_spec.digamma(gamma) - sp_spec.digamma(np.sum(gamma, axis=1, keepdims=True))  # size D x K\n",
    "    E_log_beta = sp_spec.digamma(lmbda) - sp_spec.digamma(np.sum(lmbda, axis=1, keepdims=True))   # size K x W\n",
    "    log_rho = np.zeros((D, N, K))\n",
    "    w_label = w.argmax(axis=-1)\n",
    "    for d in range(D):\n",
    "        for n in range(N):\n",
    "            E_log_beta_wdn = E_log_beta[:, int(w_label[d, n])]\n",
    "            E_log_theta_d = E_log_theta[d]\n",
    "            log_rho_n = E_log_theta_d + E_log_beta_wdn\n",
    "            log_rho[d, n, :] = log_rho_n\n",
    "\n",
    "    phi = np.exp(log_rho - sp_spec.logsumexp(log_rho, axis=-1, keepdims=True))\n",
    "    return phi\n",
    "\n",
    "def update_q_theta(phi, alpha):\n",
    "    E_Z = phi\n",
    "    D, N, K = phi.shape\n",
    "    gamma = np.zeros((D, K))\n",
    "    for d in range(D):\n",
    "        E_Z_d = E_Z[d]\n",
    "        gamma[d] = alpha + np.sum(E_Z_d, axis=0)  # sum over N\n",
    "    return gamma\n",
    "\n",
    "def update_q_beta(w, phi, eta):\n",
    "    E_Z = phi\n",
    "    D, N, W = w.shape\n",
    "    K = phi.shape[-1]\n",
    "    lmbda = np.zeros((K, W))\n",
    "    for k in range(K):\n",
    "        lmbda[k, :] = eta\n",
    "        for d in range(D):\n",
    "            for n in range(N):\n",
    "                lmbda[k, :] += E_Z[d,n,k] * w[d,n]  # Sum over d and n\n",
    "    return lmbda\n",
    "\n",
    "def calculate_elbo(w, phi, gamma, lmbda, eta, alpha):\n",
    "    D, N, K = phi.shape\n",
    "    W = eta.shape[0]\n",
    "    E_log_theta = sp_spec.digamma(gamma) - sp_spec.digamma(np.sum(gamma, axis=1, keepdims=True))  # size D x K\n",
    "    E_log_beta = sp_spec.digamma(lmbda) - sp_spec.digamma(np.sum(lmbda, axis=1, keepdims=True))  # size K x W\n",
    "    E_Z = phi  # size D, N, K\n",
    "    log_Beta_alpha = log_multivariate_beta_function(alpha)\n",
    "    log_Beta_eta = log_multivariate_beta_function(eta)\n",
    "    log_Beta_gamma = np.array([log_multivariate_beta_function(gamma[d, :]) for d in range(D)])\n",
    "    dg_gamma = sp_spec.digamma(gamma)\n",
    "    log_Beta_lmbda = np.array([log_multivariate_beta_function(lmbda[k, :]) for k in range(K)])\n",
    "    dg_lmbda = sp_spec.digamma(lmbda)\n",
    "\n",
    "    neg_CE_likelihood = np.einsum(\"dnk, kw, dnw\", E_Z, E_log_beta, w)\n",
    "    neg_CE_Z = np.einsum(\"dnk, dk -> \", E_Z, E_log_theta)\n",
    "    neg_CE_theta = -D * log_Beta_alpha + np.einsum(\"k, dk ->\", alpha - 1, E_log_theta)\n",
    "    neg_CE_beta = -K * log_Beta_eta + np.einsum(\"w, kw ->\", eta - 1, E_log_beta)\n",
    "    H_Z = -np.einsum(\"dnk, dnk ->\", E_Z, np.log(E_Z))\n",
    "    gamma_0 = np.sum(gamma, axis=1)\n",
    "    dg_gamma0 = sp_spec.digamma(gamma_0)\n",
    "    H_theta = np.sum(log_Beta_gamma + (gamma_0 - K) * dg_gamma0 - np.einsum(\"dk, dk -> d\", gamma - 1, dg_gamma))\n",
    "    lmbda_0 = np.sum(lmbda, axis=1)\n",
    "    dg_lmbda0 = sp_spec.digamma(lmbda_0)\n",
    "    H_beta = np.sum(log_Beta_lmbda + (lmbda_0 - W) * dg_lmbda0 - np.einsum(\"kw, kw -> k\", lmbda - 1, dg_lmbda))\n",
    "    return neg_CE_likelihood + neg_CE_Z + neg_CE_theta + neg_CE_beta + H_Z + H_theta + H_beta\n",
    "\n",
    "def CAVI_algorithm(w, K, n_iter, eta, alpha):\n",
    "  D, N, W = w.shape\n",
    "  phi, gamma, lmbda = initialize_q(w, D, N, K, W)\n",
    "\n",
    "  # Store output per iteration\n",
    "  elbo = np.zeros(n_iter)\n",
    "  phi_out = np.zeros((n_iter, D, N, K))\n",
    "  gamma_out = np.zeros((n_iter, D, K))\n",
    "  lmbda_out = np.zeros((n_iter, K, W))\n",
    "\n",
    "  for i in range(0, n_iter):\n",
    "\n",
    "    ###### CAVI updates #######\n",
    "\n",
    "    # q(Z) update\n",
    "    phi = update_q_Z(w, gamma, lmbda)\n",
    "\n",
    "    # q(theta) update\n",
    "    gamma = update_q_theta(phi, alpha)\n",
    "\n",
    "    # q(beta) update\n",
    "    lmbda = update_q_beta(w, phi, eta)\n",
    "\n",
    "    # ELBO\n",
    "    elbo[i] = calculate_elbo(w, phi, gamma, lmbda, eta, alpha)\n",
    "\n",
    "    # outputs\n",
    "    phi_out[i] = phi\n",
    "    gamma_out[i] = gamma\n",
    "    lmbda_out[i] = lmbda\n",
    "\n",
    "  return phi_out, gamma_out, lmbda_out, elbo\n",
    "\n",
    "n_iter0 = 100\n",
    "K0 = K_sim\n",
    "W0 = W_sim\n",
    "eta_prior0 = np.ones(W0)\n",
    "alpha_prior0 = np.ones(K0)\n",
    "phi_out0, gamma_out0, lmbda_out0, elbo0 = CAVI_algorithm(w0, K0, n_iter0, eta_prior0, alpha_prior0)\n",
    "final_phi0 = phi_out0[-1]\n",
    "final_gamma0 = gamma_out0[-1]\n",
    "final_lmbda0 = lmbda_out0[-1]"
   ]
  },
  {
   "cell_type": "code",
   "execution_count": 161,
   "metadata": {
    "collapsed": false
   },
   "outputs": [
    {
     "name": "stdout",
     "output_type": "stream",
     "text": [
      "----- Recall label switching - compare E[theta] and true theta and check for label switching -----\n",
      "Final E[theta] of doc 0 CAVI:  [0.864 0.136]\n",
      "True theta of doc 0:          [0.140 0.860]\n",
      "----- Recall label switching - e.g. E[beta_0] could be fit to true theta_1. -----\n",
      "Final E[beta] k=0: [0.354 0.219 0.082 0.000 0.014 0.096 0.105 0.045 0.015 0.070]\n",
      "Final E[beta] k=1: [0.100 0.321 0.030 0.000 0.009 0.061 0.034 0.099 0.116 0.230]\n",
      "True beta k=0: [0.135 0.309 0.036 0.000 0.009 0.068 0.043 0.092 0.103 0.206]\n",
      "True beta k=1: [0.351 0.217 0.081 0.000 0.014 0.099 0.105 0.046 0.016 0.072]\n"
     ]
    }
   ],
   "source": [
    "precision = 3\n",
    "print(f\"----- Recall label switching - compare E[theta] and true theta and check for label switching -----\")\n",
    "print(f\"Final E[theta] of doc 0 CAVI:  {np.round(final_gamma0[0] / np.sum(final_gamma0[0], axis=0, keepdims=True), precision)}\")\n",
    "print(f\"True theta of doc 0:          {np.round(theta0[0], precision)}\")\n",
    "\n",
    "print(f\"----- Recall label switching - e.g. E[beta_0] could be fit to true theta_1. -----\")\n",
    "print(f\"Final E[beta] k=0: {np.round(final_lmbda0[0, :] / np.sum(final_lmbda0[0, :], axis=-1, keepdims=True), precision)}\")\n",
    "print(f\"Final E[beta] k=1: {np.round(final_lmbda0[1, :] / np.sum(final_lmbda0[1, :], axis=-1, keepdims=True), precision)}\")\n",
    "print(f\"True beta k=0: {np.round(beta0[0, :], precision)}\")\n",
    "print(f\"True beta k=1: {np.round(beta0[1, :], precision)}\")"
   ]
  },
  {
   "cell_type": "markdown",
   "metadata": {
    "collapsed": false
   },
   "source": [
    "### SVI Implementation\n",
    "\n",
    "Using the CAVI updates as a template, finish the code below."
   ]
  },
  {
   "cell_type": "code",
   "execution_count": null,
   "metadata": {
    "collapsed": false
   },
   "outputs": [],
   "source": [
    "import numpy as np\n",
    "import scipy.special as sp_spec\n",
    "\n",
    "def update_q_Z_svi(w, gamma, lmbda):\n",
    "    \"\"\"\n",
    "    Stochastic update for q(Z) with mini-batch scaling\n",
    "    \"\"\"\n",
    "    D, N, W = w.shape\n",
    "    K, W_lmbda = lmbda.shape\n",
    "    \n",
    "    E_log_theta = sp_spec.digamma(gamma) - sp_spec.digamma(np.sum(gamma, axis=1, keepdims=True))\n",
    "    E_log_beta = sp_spec.digamma(lmbda) - sp_spec.digamma(np.sum(lmbda, axis=1, keepdims=True))\n",
    "    \n",
    "    log_rho = np.zeros((D, N, K))\n",
    "    w_label = w.argmax(axis=-1)\n",
    "    \n",
    "    for d in range(D):\n",
    "        for n in range(N):\n",
    "            E_log_beta_wdn = E_log_beta[:, w_label[d, n]]\n",
    "            E_log_theta_d = E_log_theta[d]\n",
    "            log_rho_n = E_log_theta_d + E_log_beta_wdn\n",
    "            log_rho[d, n, :] = log_rho_n\n",
    "\n",
    "    \n",
    "\n",
    "    phi = np.exp(log_rho - sp_spec.logsumexp(log_rho, axis=-1, keepdims=True))\n",
    "    \n",
    "    return phi\n",
    "\n",
    "def update_q_theta_svi( phi, alpha):\n",
    "    \"\"\"\n",
    "    Stochastic update for q(theta)\n",
    "    \"\"\"\n",
    "    D, N, K = phi.shape\n",
    "    gamma = np.zeros((D, K))\n",
    "    \n",
    "    for d in range(D):\n",
    "        gamma[d] = alpha + np.sum(phi[d], axis=0) \n",
    "    \n",
    "    return gamma \n",
    "\n",
    "def update_q_beta_svi(w, D, phi, eta):\n",
    "    \"\"\"\n",
    "    Stochastic update for q(beta)\n",
    "    \"\"\"\n",
    "    S, N, W = w.shape\n",
    "    K = phi.shape[-1]\n",
    "    lmbda = np.zeros((K, W))\n",
    "    \n",
    "    for k in range(K):\n",
    "        lmbda[k, :] = eta\n",
    "        for d in range(S):\n",
    "            for n in range(N):\n",
    "                lmbda[k, :] += D/S * phi[d, n, k] * w[d, n]\n",
    "    \n",
    "    return lmbda\n",
    "\n",
    "def SVI_algorithm(w, K, S, n_iter, eta, alpha):\n",
    "    \"\"\"\n",
    "    Stochastic Variational Inference Algorithm\n",
    "    \n",
    "    Parameters:\n",
    "    - w: full dataset (D x N x W)\n",
    "    - K: number of topics\n",
    "    - S: size of mini-batches\n",
    "    - n_iter: number of iterations\n",
    "    - eta, alpha: prior p\n",
    "    arameters\n",
    "    \"\"\"\n",
    "    eps = 0.001\n",
    "    \n",
    "    D, N, W = w.shape\n",
    "    \n",
    "    # Initialize variational parameters\n",
    "    phi, gamma, lmbda = initialize_q(w, D, N, K, W)\n",
    "    \n",
    "    elbo = np.zeros(n_iter)\n",
    "    phi_out = np.zeros((n_iter, D, N, K))\n",
    "    gamma_out = np.zeros((n_iter, D, K))\n",
    "    lmbda_out = np.zeros((n_iter, K, W))\n",
    "\n",
    "    forgetting_rate = 0.5\n",
    "    delay = 10\n",
    "\n",
    "\n",
    "    \n",
    "    for i in range(n_iter):\n",
    "        # Sample a mini-batch\n",
    "        batch_indices = np.random.choice(D, S, replace=False)\n",
    "        batch = w[batch_indices]\n",
    "\n",
    "        step_size = 1 / (i + delay)**forgetting_rate\n",
    "        \n",
    "        # local loop for convergence of variational parameters\n",
    "\n",
    "        local_elbo = calculate_elbo(w, phi, gamma, lmbda, eta, alpha)\n",
    "        gamma[batch_indices] = 1\n",
    "\n",
    "        for local_iter in range(N):\n",
    "\n",
    "            phi_batch = update_q_Z_svi(batch, gamma[batch_indices], lmbda)\n",
    "            gamma_batch = update_q_theta_svi(phi_batch, alpha)\n",
    "\n",
    "            gamma[batch_indices] = gamma_batch\n",
    "            phi[batch_indices] = phi_batch\n",
    "\n",
    "            local_elbo_new = calculate_elbo(w, phi, gamma, lmbda, eta, alpha)\n",
    "\n",
    "            if local_iter > 0:\n",
    "                if np.abs(local_elbo_new - local_elbo) < np.abs(eps * local_elbo):\n",
    "                    break\n",
    "\n",
    "            local_elbo = local_elbo_new\n",
    "        \n",
    "        \n",
    "        lmbda_batch = update_q_beta_svi(batch, D, phi_batch, eta)\n",
    "        lmbda = (1 - step_size) * lmbda + step_size * lmbda_batch / S\n",
    "        \n",
    "        # Compute ELBO\n",
    "        elbo[i] = calculate_elbo(w, phi, gamma, lmbda, eta, alpha) \n",
    "        \n",
    "        # Store outputs\n",
    "        phi_out[i] = phi\n",
    "        gamma_out[i] = gamma\n",
    "        lmbda_out[i] = lmbda\n",
    "\n",
    "    \n",
    "    return phi_out, gamma_out, lmbda_out, elbo\n"
   ]
  },
  {
   "cell_type": "markdown",
   "metadata": {
    "collapsed": false
   },
   "source": [
    "### CASE 1\n",
    "Tiny dataset"
   ]
  },
  {
   "cell_type": "code",
   "execution_count": 274,
   "metadata": {
    "collapsed": false
   },
   "outputs": [
    {
     "name": "stdout",
     "output_type": "stream",
     "text": [
      "number of iterations: 0, elbo: -4978.814446889439\n",
      "number of iterations: 1, elbo: -4624.894899546134\n",
      "number of iterations: 2, elbo: -4424.723354649945\n",
      "number of iterations: 3, elbo: -4306.245373161113\n",
      "number of iterations: 4, elbo: -4207.480547562725\n",
      "number of iterations: 5, elbo: -4113.26620504077\n",
      "number of iterations: 6, elbo: -4015.0432420420548\n",
      "number of iterations: 7, elbo: -3992.9561616591777\n",
      "number of iterations: 8, elbo: -3990.435596136672\n",
      "number of iterations: 9, elbo: -3945.9669734175386\n",
      "number of iterations: 10, elbo: -3888.982185745287\n",
      "number of iterations: 11, elbo: -3858.6979076925963\n",
      "number of iterations: 12, elbo: -3851.3365255144563\n",
      "number of iterations: 13, elbo: -3782.625172607323\n",
      "number of iterations: 14, elbo: -3765.2033182781165\n",
      "number of iterations: 15, elbo: -3723.092108964912\n",
      "number of iterations: 16, elbo: -3728.076748848021\n",
      "number of iterations: 17, elbo: -3726.3631188823733\n",
      "number of iterations: 18, elbo: -3728.7736747847084\n",
      "number of iterations: 19, elbo: -3728.9822664159865\n",
      "number of iterations: 20, elbo: -3713.981125078647\n",
      "number of iterations: 21, elbo: -3713.105195635955\n",
      "number of iterations: 22, elbo: -3724.5780904556877\n",
      "number of iterations: 23, elbo: -3711.1505931468273\n",
      "number of iterations: 24, elbo: -3707.029841971289\n",
      "number of iterations: 25, elbo: -3684.5712917343144\n",
      "number of iterations: 26, elbo: -3685.7304303142864\n",
      "number of iterations: 27, elbo: -3669.9757991035362\n",
      "number of iterations: 28, elbo: -3665.2450206015556\n",
      "number of iterations: 29, elbo: -3668.004751107526\n",
      "number of iterations: 30, elbo: -3651.970494927709\n",
      "number of iterations: 31, elbo: -3641.0266170909676\n",
      "number of iterations: 32, elbo: -3640.3215692872427\n",
      "number of iterations: 33, elbo: -3640.9319093231998\n",
      "number of iterations: 34, elbo: -3641.113293830772\n",
      "number of iterations: 35, elbo: -3623.1994959122294\n",
      "number of iterations: 36, elbo: -3624.6838392514683\n",
      "number of iterations: 37, elbo: -3623.483703805689\n",
      "number of iterations: 38, elbo: -3623.622267195906\n",
      "number of iterations: 39, elbo: -3612.0734181459165\n",
      "number of iterations: 40, elbo: -3611.07123792276\n",
      "number of iterations: 41, elbo: -3606.3990610036562\n",
      "number of iterations: 42, elbo: -3607.056298543151\n",
      "number of iterations: 43, elbo: -3607.7285992627862\n",
      "number of iterations: 44, elbo: -3607.7828622540555\n",
      "number of iterations: 45, elbo: -3611.037665368744\n",
      "number of iterations: 46, elbo: -3613.7161553618225\n",
      "number of iterations: 47, elbo: -3620.6921572351603\n",
      "number of iterations: 48, elbo: -3625.3556783270046\n",
      "number of iterations: 49, elbo: -3616.8846856367863\n",
      "number of iterations: 50, elbo: -3614.455186728581\n",
      "number of iterations: 51, elbo: -3601.406470462765\n",
      "number of iterations: 52, elbo: -3599.2772889343323\n",
      "number of iterations: 53, elbo: -3599.371041635353\n",
      "number of iterations: 54, elbo: -3596.2467294976864\n",
      "number of iterations: 55, elbo: -3599.4821091585463\n",
      "number of iterations: 56, elbo: -3599.0498702387868\n",
      "number of iterations: 57, elbo: -3597.0418147174464\n",
      "number of iterations: 58, elbo: -3595.550225659561\n",
      "number of iterations: 59, elbo: -3594.307249439313\n",
      "number of iterations: 60, elbo: -3594.5336414639223\n",
      "number of iterations: 61, elbo: -3593.4175465414837\n",
      "number of iterations: 62, elbo: -3597.2507961342785\n",
      "number of iterations: 63, elbo: -3594.1303192194346\n",
      "number of iterations: 64, elbo: -3593.1373493519172\n",
      "number of iterations: 65, elbo: -3591.232283293064\n",
      "number of iterations: 66, elbo: -3590.447200766071\n",
      "number of iterations: 67, elbo: -3592.115886028707\n",
      "number of iterations: 68, elbo: -3592.9176761350295\n",
      "number of iterations: 69, elbo: -3590.8889091972515\n",
      "number of iterations: 70, elbo: -3591.6548541315146\n",
      "number of iterations: 71, elbo: -3590.6514003467137\n",
      "number of iterations: 72, elbo: -3590.551221706327\n",
      "number of iterations: 73, elbo: -3590.577816893227\n",
      "number of iterations: 74, elbo: -3589.9521950146645\n",
      "number of iterations: 75, elbo: -3590.153564144836\n",
      "number of iterations: 76, elbo: -3589.975569423959\n",
      "number of iterations: 77, elbo: -3591.233541845246\n",
      "number of iterations: 78, elbo: -3591.332571916079\n",
      "number of iterations: 79, elbo: -3590.973842651155\n",
      "number of iterations: 80, elbo: -3592.690405529592\n",
      "number of iterations: 81, elbo: -3592.881273294879\n",
      "number of iterations: 82, elbo: -3592.8216740795483\n",
      "number of iterations: 83, elbo: -3594.104409745102\n",
      "number of iterations: 84, elbo: -3596.0338692574123\n",
      "number of iterations: 85, elbo: -3597.4866068655606\n",
      "number of iterations: 86, elbo: -3593.1727667082696\n",
      "number of iterations: 87, elbo: -3596.029103028367\n",
      "number of iterations: 88, elbo: -3592.789089238173\n",
      "number of iterations: 89, elbo: -3592.6207181842337\n",
      "number of iterations: 90, elbo: -3591.767180039145\n",
      "number of iterations: 91, elbo: -3589.921893367105\n",
      "number of iterations: 92, elbo: -3588.5623323506848\n",
      "number of iterations: 93, elbo: -3588.896397326954\n",
      "number of iterations: 94, elbo: -3588.529698670445\n",
      "number of iterations: 95, elbo: -3587.951487804943\n",
      "number of iterations: 96, elbo: -3587.8894906089254\n",
      "number of iterations: 97, elbo: -3587.526803026651\n",
      "number of iterations: 98, elbo: -3587.760837054789\n",
      "number of iterations: 99, elbo: -3588.1268670523204\n"
     ]
    }
   ],
   "source": [
    "np.random.seed(0)\n",
    "\n",
    "# Data simulation parameters\n",
    "D1 = 50\n",
    "N1 = 50\n",
    "K1 = 2\n",
    "W1 = 5\n",
    "eta_sim1 = np.ones(W1)\n",
    "alpha_sim1 = np.ones(K1)\n",
    "\n",
    "w1, z1, theta1, beta1 = generate_data(D1, N1, K1, W1, eta_sim1, alpha_sim1)\n",
    "\n",
    "# Inference parameters\n",
    "n_iter_cavi1 = 100\n",
    "n_iter_svi1 = 100\n",
    "eta_prior1 = np.ones(W1) * 1.\n",
    "alpha_prior1 = np.ones(K1) * 1.\n",
    "S1 = 5 # batch size\n",
    "\n",
    "start_cavi1 = time.time()\n",
    "phi_out1_cavi, gamma_out1_cavi, lmbda_out1_cavi, elbo1_cavi = CAVI_algorithm(w1, K1, n_iter_cavi1, eta_prior1, alpha_prior1)\n",
    "end_cavi1 = time.time()\n",
    "\n",
    "start_svi1 = time.time()\n",
    "phi_out1_svi, gamma_out1_svi, lmbda_out1_svi, elbo1_svi = SVI_algorithm(w1, K1, S1, n_iter_svi1, eta_prior1, alpha_prior1)\n",
    "end_svi1 = time.time()\n",
    "\n",
    "final_phi1_cavi = phi_out1_cavi[-1]\n",
    "final_gamma1_cavi = gamma_out1_cavi[-1]\n",
    "final_lmbda1_cavi = lmbda_out1_cavi[-1]\n",
    "final_phi1_svi = phi_out1_svi[-1]\n",
    "final_gamma1_svi = gamma_out1_svi[-1]\n",
    "final_lmbda1_svi = lmbda_out1_svi[-1]"
   ]
  },
  {
   "cell_type": "markdown",
   "metadata": {
    "collapsed": false
   },
   "source": [
    "#### Evaluation\n",
    "Do not expect perfect results in terms expectations being identical to the \"true\" theta and beta.\n",
    "Do not expect the ELBO plot of your SVI alg to be the same as the CAVI alg. However, it should increase and be in the same ball park as that of the CAVI alg."
   ]
  },
  {
   "cell_type": "code",
   "execution_count": 275,
   "metadata": {
    "collapsed": false
   },
   "outputs": [
    {
     "name": "stdout",
     "output_type": "stream",
     "text": [
      "----- Recall label switching - compare E[theta] and true theta and check for label switching -----\n",
      "E[theta] of doc 0 SVI:  [0.490 0.510]\n",
      "E[theta] of doc 0 CAVI: [0.566 0.434]\n",
      "True theta of doc 0:    [0.284 0.716]\n",
      "----- Recall label switching - e.g. E[beta_0] could be fit to true theta_1. -----\n",
      "E[beta] SVI k=0:    [0.016 0.338 0.050 0.215 0.381]\n",
      "E[beta] SVI k=1:    [0.001 0.133 0.311 0.293 0.262]\n",
      "E[beta] CAVI k=0:   [0.001 0.297 0.011 0.418 0.273]\n",
      "E[beta] CAVI k=1:   [0.014 0.138 0.402 0.032 0.414]\n",
      "True beta k=0:      [0.009 0.169 0.316 0.115 0.391]\n",
      "True beta k=1:      [0.001 0.272 0.061 0.373 0.293]\n",
      "CAVI time: 3.6590452194213867\n",
      "SVI time: 2.293473243713379\n"
     ]
    }
   ],
   "source": [
    "np.set_printoptions(formatter={'float': lambda x: \"{0:0.3f}\".format(x)})\n",
    "print(f\"----- Recall label switching - compare E[theta] and true theta and check for label switching -----\")\n",
    "print(f\"E[theta] of doc 0 SVI:  {final_gamma1_svi[0] / np.sum(final_gamma1_svi[0], axis=0, keepdims=True)}\")\n",
    "print(f\"E[theta] of doc 0 CAVI: {final_gamma1_cavi[0] / np.sum(final_gamma1_cavi[0], axis=0, keepdims=True)}\")\n",
    "print(f\"True theta of doc 0:    {theta1[0]}\")\n",
    "\n",
    "print(f\"----- Recall label switching - e.g. E[beta_0] could be fit to true theta_1. -----\")\n",
    "print(f\"E[beta] SVI k=0:    {final_lmbda1_svi[0, :] / np.sum(final_lmbda1_svi[0, :], axis=-1, keepdims=True)}\")\n",
    "print(f\"E[beta] SVI k=1:    {final_lmbda1_svi[1, :] / np.sum(final_lmbda1_svi[1, :], axis=-1, keepdims=True)}\")\n",
    "print(f\"E[beta] CAVI k=0:   {final_lmbda1_cavi[0, :] / np.sum(final_lmbda1_cavi[0, :], axis=-1, keepdims=True)}\")\n",
    "print(f\"E[beta] CAVI k=1:   {final_lmbda1_cavi[1, :] / np.sum(final_lmbda1_cavi[1, :], axis=-1, keepdims=True)}\")\n",
    "print(f\"True beta k=0:      {beta1[0, :]}\")\n",
    "print(f\"True beta k=1:      {beta1[1, :]}\")\n",
    "\n",
    "print(f\"CAVI time: {end_cavi1 - start_cavi1}\")\n",
    "print(f\"SVI time: {end_svi1 - start_svi1}\")"
   ]
  },
  {
   "cell_type": "code",
   "execution_count": 277,
   "metadata": {
    "collapsed": false
   },
   "outputs": [
    {
     "data": {
      "image/png": "[encoded data removed]",
      "text/plain": [
       "<Figure size 640x480 with 1 Axes>"
      ]
     },
     "metadata": {},
     "output_type": "display_data"
    }
   ],
   "source": [
    "plt.plot(list(range(1, n_iter_cavi1 + 1)), elbo1_svi[np.arange(0, n_iter_svi1, int(n_iter_svi1 / n_iter_cavi1))])\n",
    "plt.plot(list(range(1, n_iter_cavi1 + 1)), elbo1_cavi)\n",
    "plt.title(\"ELBO plot\")\n",
    "plt.xlabel(\"iterations\")\n",
    "plt.ylabel(\"ELBO\")\n",
    "plt.show()"
   ]
  },
  {
   "cell_type": "code",
   "execution_count": 29,
   "metadata": {
    "collapsed": false
   },
   "outputs": [],
   "source": [
    "# Add your own code for evaluation here (will not be graded)"
   ]
  },
  {
   "cell_type": "markdown",
   "metadata": {
    "collapsed": false
   },
   "source": [
    "### CASE 2\n",
    "Small dataset"
   ]
  },
  {
   "cell_type": "code",
   "execution_count": 278,
   "metadata": {
    "collapsed": false
   },
   "outputs": [
    {
     "name": "stdout",
     "output_type": "stream",
     "text": [
      "number of iterations: 0, elbo: -138643.3336522629\n",
      "number of iterations: 1, elbo: -135105.2977253703\n",
      "number of iterations: 2, elbo: -132832.43214057828\n",
      "number of iterations: 3, elbo: -131138.0866050961\n",
      "number of iterations: 4, elbo: -129383.56012820333\n",
      "number of iterations: 5, elbo: -127721.69986973495\n",
      "number of iterations: 6, elbo: -126318.14507964326\n",
      "number of iterations: 7, elbo: -125181.45439032058\n",
      "number of iterations: 8, elbo: -123981.21398369592\n",
      "number of iterations: 9, elbo: -122621.15094007835\n",
      "number of iterations: 10, elbo: -121943.46065139658\n",
      "number of iterations: 11, elbo: -121389.15252519246\n",
      "number of iterations: 12, elbo: -121048.99933078983\n",
      "number of iterations: 13, elbo: -120836.12945955983\n",
      "number of iterations: 14, elbo: -119925.51675860102\n",
      "number of iterations: 15, elbo: -119805.15852921476\n",
      "number of iterations: 16, elbo: -119489.99617357398\n",
      "number of iterations: 17, elbo: -119440.62765444972\n",
      "number of iterations: 18, elbo: -119700.88289087503\n",
      "number of iterations: 19, elbo: -119649.20440803074\n",
      "number of iterations: 20, elbo: -119211.4535448238\n",
      "number of iterations: 21, elbo: -118879.06643219817\n",
      "number of iterations: 22, elbo: -118774.29658012252\n",
      "number of iterations: 23, elbo: -119044.46816927163\n",
      "number of iterations: 24, elbo: -119051.8924428191\n",
      "number of iterations: 25, elbo: -119287.23377991607\n",
      "number of iterations: 26, elbo: -119638.25545254897\n",
      "number of iterations: 27, elbo: -119072.47363024154\n",
      "number of iterations: 28, elbo: -119140.96345453599\n",
      "number of iterations: 29, elbo: -119154.56015851344\n",
      "number of iterations: 30, elbo: -118898.98584675339\n",
      "number of iterations: 31, elbo: -118508.64415304564\n",
      "number of iterations: 32, elbo: -117899.23157640791\n",
      "number of iterations: 33, elbo: -117499.8612312131\n",
      "number of iterations: 34, elbo: -116932.15622008918\n",
      "number of iterations: 35, elbo: -116181.06128942383\n",
      "number of iterations: 36, elbo: -116446.65315559634\n",
      "number of iterations: 37, elbo: -115437.37978870723\n",
      "number of iterations: 38, elbo: -115273.332670173\n",
      "number of iterations: 39, elbo: -115131.59403649977\n",
      "number of iterations: 40, elbo: -115061.44767932617\n",
      "number of iterations: 41, elbo: -114424.6740795945\n",
      "number of iterations: 42, elbo: -114491.36681777224\n",
      "number of iterations: 43, elbo: -114199.51767861166\n",
      "number of iterations: 44, elbo: -113908.01549605904\n",
      "number of iterations: 45, elbo: -113995.0765574151\n",
      "number of iterations: 46, elbo: -113604.91198246236\n",
      "number of iterations: 47, elbo: -113426.79897961987\n",
      "number of iterations: 48, elbo: -113180.82472845\n",
      "number of iterations: 49, elbo: -112867.30084996753\n",
      "number of iterations: 50, elbo: -112395.17239008765\n",
      "number of iterations: 51, elbo: -112379.62461349524\n",
      "number of iterations: 52, elbo: -112353.41494917338\n",
      "number of iterations: 53, elbo: -111944.746155896\n",
      "number of iterations: 54, elbo: -111852.06308844115\n",
      "number of iterations: 55, elbo: -111834.58107440283\n",
      "number of iterations: 56, elbo: -111816.87291790092\n",
      "number of iterations: 57, elbo: -111361.55703283499\n",
      "number of iterations: 58, elbo: -111351.43683982288\n",
      "number of iterations: 59, elbo: -111348.51902860167\n",
      "number of iterations: 60, elbo: -111350.69695280121\n",
      "number of iterations: 61, elbo: -111317.46400628255\n",
      "number of iterations: 62, elbo: -110672.72381396245\n",
      "number of iterations: 63, elbo: -110667.56938749121\n",
      "number of iterations: 64, elbo: -110313.50708187502\n",
      "number of iterations: 65, elbo: -110287.8331733735\n",
      "number of iterations: 66, elbo: -110284.64494397088\n",
      "number of iterations: 67, elbo: -109590.53804587181\n",
      "number of iterations: 68, elbo: -109552.19434809433\n",
      "number of iterations: 69, elbo: -109548.30850711386\n",
      "number of iterations: 70, elbo: -109550.77022145134\n",
      "number of iterations: 71, elbo: -109549.18252989146\n",
      "number of iterations: 72, elbo: -109546.37209837769\n",
      "number of iterations: 73, elbo: -109528.05023524018\n",
      "number of iterations: 74, elbo: -109519.82896685695\n",
      "number of iterations: 75, elbo: -109515.1994076645\n",
      "number of iterations: 76, elbo: -109514.32830057612\n",
      "number of iterations: 77, elbo: -109511.21336661757\n",
      "number of iterations: 78, elbo: -109508.05998008593\n",
      "number of iterations: 79, elbo: -109507.4833556222\n",
      "number of iterations: 80, elbo: -109496.63373200862\n",
      "number of iterations: 81, elbo: -109499.06136822143\n",
      "number of iterations: 82, elbo: -109495.92622450033\n",
      "number of iterations: 83, elbo: -109497.09912318939\n",
      "number of iterations: 84, elbo: -109496.63147433312\n",
      "number of iterations: 85, elbo: -109190.17241371889\n",
      "number of iterations: 86, elbo: -109182.55002337306\n",
      "number of iterations: 87, elbo: -109180.90544453319\n",
      "number of iterations: 88, elbo: -109174.87725223333\n",
      "number of iterations: 89, elbo: -109168.82891239676\n",
      "number of iterations: 90, elbo: -109167.44496924998\n",
      "number of iterations: 91, elbo: -109168.27520935633\n",
      "number of iterations: 92, elbo: -109167.85277808715\n",
      "number of iterations: 93, elbo: -109168.95719381588\n",
      "number of iterations: 94, elbo: -109169.08714673303\n",
      "number of iterations: 95, elbo: -109169.1736509643\n",
      "number of iterations: 96, elbo: -109160.75999975097\n",
      "number of iterations: 97, elbo: -109158.03337150029\n",
      "number of iterations: 98, elbo: -109156.07938039182\n",
      "number of iterations: 99, elbo: -109155.1571000377\n"
     ]
    }
   ],
   "source": [
    "np.random.seed(0)\n",
    "\n",
    "# Data simulation parameters\n",
    "D2 = 1000\n",
    "N2 = 50\n",
    "K2 = 3\n",
    "W2 = 10\n",
    "eta_sim2 = np.ones(W2)\n",
    "alpha_sim2 = np.ones(K2)\n",
    "\n",
    "w2, z2, theta2, beta2 = generate_data(D2, N2, K2, W2, eta_sim2, alpha_sim2)\n",
    "\n",
    "# Inference parameters\n",
    "n_iter_cavi2 = 100\n",
    "n_iter_svi2 = 100\n",
    "eta_prior2 = np.ones(W2) * 1.\n",
    "alpha_prior2 = np.ones(K2) * 1.\n",
    "S2 = 100 # batch size\n",
    "\n",
    "start_cavi2 = time.time()\n",
    "phi_out2_cavi, gamma_out2_cavi, lmbda_out2_cavi, elbo2_cavi = CAVI_algorithm(w2, K2, n_iter_cavi2, eta_prior2, alpha_prior2)\n",
    "end_cavi2 = time.time()\n",
    "\n",
    "start_svi2 = time.time()\n",
    "phi_out2_svi, gamma_out2_svi, lmbda_out2_svi, elbo2_svi = SVI_algorithm(w2, K2, S2, n_iter_svi2, eta_prior2, alpha_prior2)\n",
    "end_svi2 = time.time()\n",
    "\n",
    "final_phi2_cavi = phi_out2_cavi[-1]\n",
    "final_gamma2_cavi = gamma_out2_cavi[-1]\n",
    "final_lmbda2_cavi = lmbda_out2_cavi[-1]\n",
    "final_phi2_svi = phi_out2_svi[-1]\n",
    "final_gamma2_svi = gamma_out2_svi[-1]\n",
    "final_lmbda2_svi = lmbda_out2_svi[-1]"
   ]
  },
  {
   "cell_type": "markdown",
   "metadata": {
    "collapsed": false
   },
   "source": [
    "#### Evaluation\n",
    "Do not expect perfect results in terms expectations being identical to the \"true\" theta and beta.\n",
    "Do not expect the ELBO plot of your SVI alg to be the same as the CAVI alg. However, it should increase and be in the same ball park as that of the CAVI alg."
   ]
  },
  {
   "cell_type": "code",
   "execution_count": 283,
   "metadata": {
    "collapsed": false
   },
   "outputs": [
    {
     "name": "stdout",
     "output_type": "stream",
     "text": [
      "----- Recall label switching - compare E[theta] and true theta and check for label switching -----\n",
      "E[theta] of doc 0 SVI:      [0.431 0.353 0.216]\n",
      "E[theta] of doc 0 CAVI:     [0.584 0.216 0.201]\n",
      "True theta of doc 0:        [0.073 0.817 0.111]\n",
      "----- Recall label switching - e.g. E[beta_0] could be fit to true theta_1. -----\n",
      "E[beta] k=0:    [0.043 0.015 0.045 0.031 0.086 0.094 0.415 0.142 0.003 0.125]\n",
      "E[beta] k=1:    [0.211 0.033 0.067 0.000 0.000 0.353 0.147 0.072 0.000 0.118]\n",
      "E[beta] k=2:    [0.399 0.099 0.000 0.105 0.000 0.008 0.021 0.114 0.198 0.056]\n",
      "E[beta] k=0:    [0.168 0.052 0.004 0.000 0.066 0.230 0.431 0.002 0.001 0.047]\n",
      "E[beta] k=1:    [0.138 0.056 0.113 0.142 0.000 0.131 0.083 0.327 0.002 0.007]\n",
      "E[beta] k=2:    [0.364 0.038 0.002 0.002 0.012 0.081 0.010 0.019 0.217 0.255]\n",
      "True beta k=0:  [0.271 0.049 0.010 0.025 0.029 0.147 0.114 0.064 0.129 0.161]\n",
      "True beta k=1:  [0.213 0.046 0.032 0.012 0.047 0.175 0.318 0.045 0.026 0.086]\n",
      "True beta k=2:  [0.182 0.052 0.073 0.101 0.004 0.128 0.128 0.227 0.049 0.056]\n",
      "Time SVI: 37.32777380943298\n",
      "Time CAVI: 111.03776812553406\n"
     ]
    }
   ],
   "source": [
    "np.set_printoptions(formatter={'float': lambda x: \"{0:0.3f}\".format(x)})\n",
    "print(f\"----- Recall label switching - compare E[theta] and true theta and check for label switching -----\")\n",
    "print(f\"E[theta] of doc 0 SVI:      {final_gamma2_svi[0] / np.sum(final_gamma2_svi[0], axis=0, keepdims=True)}\")\n",
    "print(f\"E[theta] of doc 0 CAVI:     {final_gamma2_cavi[0] / np.sum(final_gamma2_cavi[0], axis=0, keepdims=True)}\")\n",
    "print(f\"True theta of doc 0:        {theta2[0]}\")\n",
    "\n",
    "print(f\"----- Recall label switching - e.g. E[beta_0] could be fit to true theta_1. -----\")\n",
    "print(f\"E[beta] k=0:    {final_lmbda2_svi[0, :] / np.sum(final_lmbda2_svi[0, :], axis=-1, keepdims=True)}\")\n",
    "print(f\"E[beta] k=1:    {final_lmbda2_svi[1, :] / np.sum(final_lmbda2_svi[1, :], axis=-1, keepdims=True)}\")\n",
    "print(f\"E[beta] k=2:    {final_lmbda2_svi[2, :] / np.sum(final_lmbda2_svi[2, :], axis=-1, keepdims=True)}\")\n",
    "print(f\"E[beta] k=0:    {final_lmbda2_cavi[0, :] / np.sum(final_lmbda2_cavi[0, :], axis=-1, keepdims=True)}\")\n",
    "print(f\"E[beta] k=1:    {final_lmbda2_cavi[1, :] / np.sum(final_lmbda2_cavi[1, :], axis=-1, keepdims=True)}\")\n",
    "print(f\"E[beta] k=2:    {final_lmbda2_cavi[2, :] / np.sum(final_lmbda2_cavi[2, :], axis=-1, keepdims=True)}\")\n",
    "print(f\"True beta k=0:  {beta2[0, :]}\")\n",
    "print(f\"True beta k=1:  {beta2[1, :]}\")\n",
    "print(f\"True beta k=2:  {beta2[2, :]}\")\n",
    "\n",
    "print(f\"Time SVI: {end_svi2 - start_svi2}\")\n",
    "print(f\"Time CAVI: {end_cavi2 - start_cavi2}\")"
   ]
  },
  {
   "cell_type": "code",
   "execution_count": 280,
   "metadata": {
    "collapsed": false
   },
   "outputs": [
    {
     "data": {
      "image/png": "[encoded data removed]",
      "text/plain": [
       "<Figure size 640x480 with 1 Axes>"
      ]
     },
     "metadata": {},
     "output_type": "display_data"
    }
   ],
   "source": [
    "plt.plot(list(range(1, n_iter_cavi2 + 1)), elbo2_svi[np.arange(0, n_iter_svi2, int(n_iter_svi2 / n_iter_cavi2))])\n",
    "plt.plot(list(range(1, n_iter_cavi2 + 1)), elbo2_cavi)\n",
    "plt.title(\"ELBO plot\")\n",
    "plt.xlabel(\"iterations\")\n",
    "plt.ylabel(\"ELBO\")\n",
    "plt.show()"
   ]
  },
  {
   "cell_type": "code",
   "execution_count": 33,
   "metadata": {
    "collapsed": false
   },
   "outputs": [],
   "source": [
    "# Add your own code for evaluation here (will not be graded)"
   ]
  },
  {
   "cell_type": "markdown",
   "metadata": {
    "collapsed": false
   },
   "source": [
    "### CASE 3\n",
    "Medium small dataset, one iteration for time analysis."
   ]
  },
  {
   "cell_type": "code",
   "execution_count": 281,
   "metadata": {
    "collapsed": false
   },
   "outputs": [
    {
     "name": "stdout",
     "output_type": "stream",
     "text": [
      "number of iterations: 0, elbo: -14825126.515121993\n"
     ]
    }
   ],
   "source": [
    "np.random.seed(0)\n",
    "\n",
    "# Data simulation parameters\n",
    "D3 = 10**4\n",
    "N3 = 500\n",
    "K3 = 5\n",
    "W3 = 10\n",
    "eta_sim3 = np.ones(W3)\n",
    "alpha_sim3 = np.ones(K3)\n",
    "\n",
    "w3, z3, theta3, beta3 = generate_data(D3, N3, K3, W3, eta_sim3, alpha_sim3)\n",
    "\n",
    "# Inference parameters\n",
    "n_iter3 = 1\n",
    "eta_prior3 = np.ones(W3) * 1.\n",
    "alpha_prior3 = np.ones(K3) * 1.\n",
    "S3 = 100 # batch size\n",
    "\n",
    "start_cavi3 = time.time()\n",
    "phi_out3_cavi, gamma_out3_cavi, lmbda_out3_cavi, elbo3_cavi = CAVI_algorithm(w3, K3, n_iter3, eta_prior3, alpha_prior3)\n",
    "end_cavi3 = time.time()\n",
    "\n",
    "start_svi3 = time.time()\n",
    "phi_out3_svi, gamma_out3_svi, lmbda_out3_svi, elbo3_svi = SVI_algorithm(w3, K3, S3, n_iter3, eta_prior3, alpha_prior3)\n",
    "end_svi3 = time.time()\n",
    "\n",
    "final_phi3_cavi = phi_out3_cavi[-1]\n",
    "final_gamma3_cavi = gamma_out3_cavi[-1]\n",
    "final_lmbda3_cavi = lmbda_out3_cavi[-1]\n",
    "final_phi3_svi = phi_out3_svi[-1]\n",
    "final_gamma3_svi = gamma_out3_svi[-1]\n",
    "final_lmbda3_svi = lmbda_out3_svi[-1]"
   ]
  },
  {
   "cell_type": "code",
   "execution_count": 282,
   "metadata": {
    "collapsed": false
   },
   "outputs": [
    {
     "name": "stdout",
     "output_type": "stream",
     "text": [
      "Examine per iteration run time.\n",
      "Time SVI: 6.704095840454102\n",
      "Time CAVI: 124.4749870300293\n"
     ]
    }
   ],
   "source": [
    "print(f\"Examine per iteration run time.\")\n",
    "print(f\"Time SVI: {end_svi3 - start_svi3}\")\n",
    "print(f\"Time CAVI: {end_cavi3 - start_cavi3}\")"
   ]
  },
  {
   "cell_type": "code",
   "execution_count": 36,
   "metadata": {
    "collapsed": false
   },
   "outputs": [],
   "source": [
    "# Add your own code for evaluation here (will not be graded)"
   ]
  }
 ],
 "metadata": {
  "kernelspec": {
   "display_name": "Python 3",
   "language": "python",
   "name": "python3"
  },
  "language_info": {
   "codemirror_mode": {
    "name": "ipython",
    "version": 2
   },
   "file_extension": ".py",
   "mimetype": "text/x-python",
   "name": "python",
   "nbconvert_exporter": "python",
   "pygments_lexer": "ipython2",
   "version": "2.7.6"
  }
 },
 "nbformat": 4,
 "nbformat_minor": 0
}
