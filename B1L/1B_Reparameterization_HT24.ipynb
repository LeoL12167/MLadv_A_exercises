{
  "nbformat": 4,
  "nbformat_minor": 0,
  "metadata": {
    "colab": {
      "provenance": []
    },
    "kernelspec": {
      "name": "python3",
      "display_name": "Python 3"
    },
    "language_info": {
      "name": "python"
    }
  },
  "cells": [
    {
      "cell_type": "markdown",
      "source": [
        "# ***Reparameterization of common distributions***\n",
        "\n",
        "\n",
        "\n"
      ],
      "metadata": {
        "id": "AALnQO-y6HOz"
      }
    },
    {
      "cell_type": "markdown",
      "source": [
        "We will work with Torch throughout this notebook."
      ],
      "metadata": {
        "id": "wRc3KUnVPHm9"
      }
    },
    {
      "cell_type": "code",
      "source": [
        "import torch\n",
        "from torch.distributions import Beta #, ...  import the distributions you need here\n",
        "from torch.nn import functional as F"
      ],
      "metadata": {
        "id": "9hD0wA4YPFzy"
      },
      "execution_count": null,
      "outputs": []
    },
    {
      "cell_type": "markdown",
      "source": [
        "### ***Q1. Beta Distribution***\n",
        "Below write a function that generates N samples from $Beta(a,b)$"
      ],
      "metadata": {
        "id": "Oqjx4h2_6ifq"
      }
    },
    {
      "cell_type": "code",
      "execution_count": null,
      "metadata": {
        "id": "tZIdS5CG6AwI"
      },
      "outputs": [],
      "source": [
        "def beta_sampler(a, b, N):\n",
        "  # insert your code\n",
        "\n",
        "  return samples # should be N-by-1"
      ]
    },
    {
      "cell_type": "markdown",
      "source": [
        "Now, reparameterize $Beta(a,b)$ via Kumaraswamy(a,b) approximation:"
      ],
      "metadata": {
        "id": "QLJhOusWPtlp"
      }
    },
    {
      "cell_type": "code",
      "source": [
        "def beta_reparametrize(a,b,N):\n",
        "  # this function should return N samples as well,\n",
        "  # but they are generated using the reparameterization trick\n",
        "\n",
        "  # insert your code\n",
        "\n",
        "  return samples"
      ],
      "metadata": {
        "id": "GlC1BoQM8hJ5"
      },
      "execution_count": null,
      "outputs": []
    },
    {
      "cell_type": "markdown",
      "source": [
        "Now, generate 1000 samples from $Beta(a,b)$, where  $a = 1 $, $ b = 0.7$, both directly and using the reparameterization."
      ],
      "metadata": {
        "id": "qhcRxrXpQFeL"
      }
    },
    {
      "cell_type": "code",
      "source": [
        "a = 1\n",
        "b = 0.7\n",
        "N = 1000\n",
        "direct_samples = beta_sampler(a, b, N)\n",
        "reparametrized_samples = beta_reparametrize(a, b, N)"
      ],
      "metadata": {
        "id": "Fsx3z9K_8NBk"
      },
      "execution_count": null,
      "outputs": []
    },
    {
      "cell_type": "markdown",
      "source": [
        "A helper function to visualize the generated samples:"
      ],
      "metadata": {
        "id": "HSQ2cI-_QeEW"
      }
    },
    {
      "cell_type": "code",
      "source": [
        "import matplotlib.pyplot as plt\n",
        "def compare_samples (samples_1, samples_2, bins=100, range=None):\n",
        "  fig = plt.figure()\n",
        "  if range is not None:\n",
        "    plt.hist(samples_1, bins=bins, range=range)\n",
        "    plt.hist(samples_2, bins=bins, range=range)\n",
        "  else:\n",
        "    plt.hist(samples_1, bins=bins)\n",
        "    plt.hist(samples_2, bins=bins)\n",
        "  plt.xlabel('value')\n",
        "  plt.ylabel('number of samples')\n",
        "  plt.legend(['direct','via reparameterization'])\n",
        "  plt.show()"
      ],
      "metadata": {
        "id": "8U4TWTzs9KVd"
      },
      "execution_count": null,
      "outputs": []
    },
    {
      "cell_type": "markdown",
      "source": [
        "Compare the generated samples:"
      ],
      "metadata": {
        "id": "ntIes7KCRHvR"
      }
    },
    {
      "cell_type": "code",
      "source": [
        "compare_samples (direct_samples, reparametrized_samples)"
      ],
      "metadata": {
        "id": "HkrFgrqi-KoW"
      },
      "execution_count": null,
      "outputs": []
    },
    {
      "cell_type": "markdown",
      "source": [
        "### ***Q2. Dirichlet Distribution***\n"
      ],
      "metadata": {
        "id": "-YATmfnnBRsS"
      }
    },
    {
      "cell_type": "markdown",
      "source": [
        "Write a function that generates N samples from Dirichlet ($\\alpha$), where $\\alpha = [\\alpha_0, \\alpha_1, \\alpha_2]$."
      ],
      "metadata": {
        "id": "-o2kMLV_WA81"
      }
    },
    {
      "cell_type": "code",
      "source": [
        "def dirichlet_sampler(alpha, N):\n",
        "  # insert your code\n",
        "\n",
        "  return samples  # should be N-by-3"
      ],
      "metadata": {
        "id": "by1mS-yuhySU"
      },
      "execution_count": null,
      "outputs": []
    },
    {
      "cell_type": "markdown",
      "source": [
        "Implement the reparameterization trick for the Dirichlet distribution:"
      ],
      "metadata": {
        "id": "DOy4JwskW3bt"
      }
    },
    {
      "cell_type": "code",
      "source": [
        "# Hint: approximate it by the Softmax-Gaussian distribution.\n",
        "def dirichlet_reparametrize(alpha, N):\n",
        "  # insert your code\n",
        "\n",
        "\n",
        "  return samples"
      ],
      "metadata": {
        "id": "obCDFRyRi3QS"
      },
      "execution_count": null,
      "outputs": []
    },
    {
      "cell_type": "markdown",
      "source": [
        "Generate samples for $\\alpha= [1, 10, 1]$:"
      ],
      "metadata": {
        "id": "-mwOQtQ2YCDT"
      }
    },
    {
      "cell_type": "code",
      "source": [
        "alpha = torch.Tensor([1, 10, 1])\n",
        "N = 100\n",
        "direct_samples = dirichlet_sampler(alpha, N)\n",
        "reparametrized_samples = dirichlet_reparametrize(alpha, N)"
      ],
      "metadata": {
        "id": "UOyP4ozoiABX"
      },
      "execution_count": null,
      "outputs": []
    },
    {
      "cell_type": "markdown",
      "source": [
        "A helper function to visualize dirichlet samples:"
      ],
      "metadata": {
        "id": "kdM74FylYj5c"
      }
    },
    {
      "cell_type": "code",
      "source": [
        "def dirichlet_plotter (samples_1, samples_2, idx):\n",
        "  fig = plt.figure()\n",
        "\n",
        "  plt.bar([1,2,3], samples_1[idx,:])\n",
        "  plt.xlabel('categories')\n",
        "  plt.ylabel('prob')\n",
        "  plt.title('direct sampling')\n",
        "  plt.xticks([1, 2, 3], ['1', '2', '3'])\n",
        "  fig = plt.figure()\n",
        "  plt.bar([1,2,3], samples_2[idx,:])\n",
        "  plt.xlabel('categories')\n",
        "  plt.ylabel('prob')\n",
        "  plt.title('via reparametrization')\n",
        "  plt.xticks([1, 2, 3], ['1', '2', '3'])\n",
        "  plt.show()"
      ],
      "metadata": {
        "id": "KaiPcmBxrmDz"
      },
      "execution_count": null,
      "outputs": []
    },
    {
      "cell_type": "markdown",
      "source": [
        "Compare the samples drawn from the Dirichlet distribution and the samples drawn from the reparametrized version of it (do it for a few different idx):"
      ],
      "metadata": {
        "id": "U0UqSAjWY6Xd"
      }
    },
    {
      "cell_type": "code",
      "source": [
        "dirichlet_plotter(direct_samples, reparametrized_samples, idx=1) # idx= 0, 1, ..., N"
      ],
      "metadata": {
        "id": "GKrpNNLZYwCv"
      },
      "execution_count": null,
      "outputs": []
    }
  ]
}