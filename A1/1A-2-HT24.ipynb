{
 "cells": [
  {
   "cell_type": "markdown",
   "metadata": {
    "id": "sK3wTrs80efU"
   },
   "source": [
    "# ***Assignment 1.2 - CAVI***\n",
    "Consider the model defined by Equation (10.21)-(10-23) in Bishop, for which DGM is presented below:"
   ]
  },
  {
   "cell_type": "markdown",
   "metadata": {
    "id": "-mZwYR-W4xMs"
   },
   "source": [
    "![Screen Shot 2023-11-13 at 09.53.37.png](data:image/png;base64,iVBORw0KGgoAAAANSUhEUgAAASgAAAEVCAYAAABT43hqAAABRmlDQ1BJQ0MgUHJvZmlsZQAAKJFjYGASSSwoyGFhYGDIzSspCnJ3UoiIjFJgf87AzcDLwMnAxCCQmFxc4BgQ4ANUwgCjUcG3awyMIPqyLsis/7W37iz+9P9YcM08A9Ek+8eY6lEAV0pqcTKQ/gPE6ckFRSUMDIwpQLZyeUkBiN0BZIsUAR0FZM8BsdMh7A0gdhKEfQSsJiTIGci+AWQLJGckAs1gfAFk6yQhiacjsaH2ggCvR4CCr5F5WrmCm4cLAfeSDEpSK0pAtHN+QWVRZnpGiYIjMJRSFTzzkvV0FIwMjIwZGEBhDlH9+QY4LBnFOBBiKe0MDMZaQEEuhFjWEwaGPdMZGARPIcTUs4HesmNgOBBZkFiUCHcA4zeW4jRjIwibezsDA+u0//8/hzMwsGsyMPy9/v//7+3///9dxsDAfAuo9xsAgylhhYG1/SIAAABWZVhJZk1NACoAAAAIAAGHaQAEAAAAAQAAABoAAAAAAAOShgAHAAAAEgAAAESgAgAEAAAAAQAAASigAwAEAAAAAQAAARUAAAAAQVNDSUkAAABTY3JlZW5zaG90ojjHzAAAAdZpVFh0WE1MOmNvbS5hZG9iZS54bXAAAAAAADx4OnhtcG1ldGEgeG1sbnM6eD0iYWRvYmU6bnM6bWV0YS8iIHg6eG1wdGs9IlhNUCBDb3JlIDUuNC4wIj4KICAgPHJkZjpSREYgeG1sbnM6cmRmPSJodHRwOi8vd3d3LnczLm9yZy8xOTk5LzAyLzIyLXJkZi1zeW50YXgtbnMjIj4KICAgICAgPHJkZjpEZXNjcmlwdGlvbiByZGY6YWJvdXQ9IiIKICAgICAgICAgICAgeG1sbnM6ZXhpZj0iaHR0cDovL25zLmFkb2JlLmNvbS9leGlmLzEuMC8iPgogICAgICAgICA8ZXhpZjpQaXhlbFhEaW1lbnNpb24+Mjk2PC9leGlmOlBpeGVsWERpbWVuc2lvbj4KICAgICAgICAgPGV4aWY6VXNlckNvbW1lbnQ+U2NyZWVuc2hvdDwvZXhpZjpVc2VyQ29tbWVudD4KICAgICAgICAgPGV4aWY6UGl4ZWxZRGltZW5zaW9uPjI3NzwvZXhpZjpQaXhlbFlEaW1lbnNpb24+CiAgICAgIDwvcmRmOkRlc2NyaXB0aW9uPgogICA8L3JkZjpSREY+CjwveDp4bXBtZXRhPgo89aVSAAAwX0lEQVR4Ae2dCfwVUxvHn/ZIKgrRviBJWl69IUWhjUIqKrQKFZEl0UKJl0ohLa+lZIm8qNdLJaR9lSKVbHlTqWxJSTXv+Z3eue69/7vN3Jm5M/f+zudT/3tnzpxz5nvm/uYsz3lOPkMFYSABEiABHxLI78MysUgkQAIkoAlQoPggkAAJ+JYABcq3VcOCkQAJUKD4DJAACfiWAAXKt1XDgpEACVCg+AyQAAn4lgAFyrdVw4KRAAlQoPgMkAAJ+JYABcq3VcOCkQAJUKD4DJAACfiWAAXKt1XDgpEACVCg+AyQAAn4lgAFyrdVw4KRAAlQoPgMkAAJ+JYABcq3VcOCkQAJUKD4DJAACfiWAAXKt1XDgpEACVCg+AyQAAn4lgAFyrdVw4KRAAlQoPgMkAAJ+JaAZYHat2+f/PTTT769IRaMBEjAewJ79uyR3bt3O56xZYGaNWuWVK1aVVq2bCl//PGH4wVigiRAAsEh8Pbbb8sxxxwjxx57rDRq1MjxglsWqPbt28vo0aPlnXfekUceecTxAuVyghD8w4cP5zIC3nvACLRq1Uq2bt2qS33uuec6XnrLAoUSdOjQQYoXLy5TpkxxvEC5muDevXulSpUq8thjj0UgePPNN+X8888Xbl8YgSXtL3gRHDhwIO10mIDIypUrNYbGjRs7jsOWQB111FFy5ZVXyldffSWLFy92vFC5mOBHH30k33//vZxyyikRt//kk0/K119/Lfny5Ys4zi/2CGD8tFu3blKnTh3B23/EiBEyYMAAWbBggb0EeZV88MEHmoJvBAql6dSpky7UtGnT9F/+lx6BDz/8UCfQpEmTUEJ4w+MFEN23//TTT3Ur9pprrpGOHTvKxx9/HLqGH+IT2LJlizRs2FC/CPDWnzt3rv5xjRo1Sj755JP4F/JMQgJ4ditVqiQVKlSQ33//3dlhCmx9biccPHjQKFu2rHH88ccb6odkJwleE0bgnHPOMapVqxZ2xDDUWx3b0htPP/106PjOnTuNk08+2Vi6dKk+tnHjRqNcuXLGN998E4rDD7EJXHrppfp53bVrVyjC8OHDNeN169aFjuGDGr4wrrjiCqNdu3ZG3759DdUFjzjPL0cIgEuhQoWMevXqGeDbrFkz47TTTjNWrFjhCCKMbdgO/fv315U7c+ZM22nwQsP49ddfjYIFCxo9evSIwPHAAw9ovhs2bAgdHzdunFGrVq3Qd3zAQ3HvvfdGHOOXSAJqUkez7NevX8SJ5s2bG2XKlDHUmFTo+BtvvGGcccYZxm+//aaP/eMf/zBUdzB0nh/+IjBnzhzN9eijjzY+++wzfWLIkCGGmtkz1KTPXxFtfrI1BmW299SbW3+M1c1TlStKwATdkLZt28qzzz5rXsa/UQQWLVokqkUq5513XsQZNJ0xJqXeSLJp0ybddH7//fdFtVoj4qFpbY4DRJzglxCB2bNn68+tW7cOHQPzhQsXyoUXXhgxxodZanSdixUrpuP27NlTMJ2+Zs2a0LX8cISAOTSxZMkSUaKuD2J8D79/c3w6nSEJ2wL18ssvy1NPPSUQKdhGqVZARJ3deOONUqBAAUG81157TQsUZ/0iEIW+zJ8/X382KxhfYPiGCsYMHgLG/DDztG3bNilRooQ+Zv6HSQvVbTG/8m8MAqtXr5b8+fPrMSjztOqG6B/SBRdcoNniJQBDZNV9ltKlS5vRpGTJknrWmi+BEJLQB3P86ayzzgodwzOKoIYd9HOpun5y++23ay1QvQK5/PLL5dtvvw3FT/TBlkC9+OKLcsstt8hbb70lECJU6r/+9a9QPijgSy+9JHjzIKg+qlx//fV6xiQUiR9CBMy3kGlPgjc7uO7fv1/OPPNMUeMjUrFiRVHdQPnzzz+lSJEioWvxATN8NJqNQJLny3HHHSdqzFQbFZon3333Xf0Rs09qmEL/gCD0YAzDw/DAl0A4jSOf8cxhsiF6EgetKQSIFhooaPE3aNBAHzv11FPl9NNPl0mTJunvyf6zLFDozmGaFiKFHw/e7PiBhHfzzDdNeFcE3ZAvvvgiZNSVrGC5ch5NYVTyCSecIGowVvr06SOXXXaZYDYPnNH67N69uwwcOFAjQesp2n4HD4rZHckVblbv8+KLL5YdO3bolymuhSDB0BiiX7NmTf1DwpvdZFu0aNE8WfAlEIkEs6LgZYoPzqKVj+40fvvQh3SHJApGZpn429SpU6Vr164yduxYadGihY5cuXJlPXYCUYIdj5ph0t0QnAzvipgVjjdUtK1P4lyz+yy6cWgxjRkzRo+FgA9+MOiO9OrVS9TAo+aFbgZC7dq1Zfny5RFQ8MM7++yzI47xSyQBtODBDeOheBmAGX5IsOfDSxZ1gLETs6scLUb4IWJJB8NfBNANxnNavnz50EE1waDZTpgwQQoXLqy14KSTTgqdxwdLrdFUB9cx7aoKY6g3fJ5LJk6cqEfy1RtJnxs5cqShWlUR8dQ4i46zbNmyiOO5/kW1jDSX//73vymhUIJmYMbkl19+0fHVD0fPQqmWVkrX53qk9evXG8rwNYRBGW4aahA39B2zeTDbePzxx0PHVFdb15Eaxggd44cjBFTrybjvvvv0FzVEYSjRMlRL1Dh06JA+VrduXUMtj4vABQ1RPaqIY/G+pGRmoPrketoQU63qTZMnLUyTqyadts9Rbx5j/PjxukJxnRnM6cjwh8E8l8t/leFgHvunZDwefPBBQ3UBjWeeecZQs1J5zBOSXc/ziQnAfEa1tEKR8OyqpV2GmrgIHeOHIwTULKihWp6GaqEaanzJUFb5ERqhZkgjWOIqNTZt1KhRIyWEKQkUUlKWtiFVjJWyGhg30DrCG0hNm2uBgqKa4YUXXjDUOImBtxHDEQJgpbq+Ru/evS0jAVvY9qhxAMvX8oLEBNA6VTN7xm233aaNZFWX22DrKT4zGGuq1QxGeIPEjA2GahGx+VX/RQtLmR9FHIv3RffDIjqIDnxRmelZJwxCwg4KAeMpquJl+vTpDuSQPUnADgezHdGzRtlzh8G8EzzDsHvCM6uspLWZQTDvJLOlxoyeMiTWY1F4xjFDijFo1csSZaWftHCuCBRyhS0JBtRvvvlm+eGHHwSr8jEoiUF0BhIggdwhoJYTybx586RLly6CQXQMmk+ePDklAK4JFHKHfRQUFDYoanmGNtxMqVSMRAIkkFUEMMO/du1aPUMdPuuX7CZdFahkmfM8CZAACSQiYNlQM1FiPEcCJEACThKgQDlJk2mRAAk4SoAC5ShOdxLDJMNdd93lTuJMNUTghhtuCH3mB38QoED5ox4SlgJTs+ZC4oQReTItAqmusE8rE15siYCvBAoLjmfMmGHpBhiZBEjAHQJq+ZVeX+tO6qml6iuBguEWRAqeEhhIgAQyRwCeCrDFXKY36fWVQMHjwauvvqqNOumBM3MPJ3PObQLo6sKjKIwp4Vkjk8FXAgUQcNEAJ1fvvfeeqM0CMsmGeZNAzhGAF0wsT1ML0TMuToDvO4FCoeBETC0u1v57lNsLHGIgARJwmQD2uYQ4ofeivA24nFtqyftSoFB0+DOHin/++efy8MMPp3Y3jEUCJGCLwJdffqkd92HfALjk9UvwrUABELz1wTMf1vEMHTrUL8xYDhLIKgJwxd25c2eBx1z4DPdT8LVAART8nau94PSOpffcc4+f2LEsJBB4AtjJ5rrrrtOz59WrV/fd/fheoExiavNEPYCuHGDByZ55mH9JgARsElC7UuvdlmDWU7VqVZupuHtZYAQKGLCnFhzew8cUdo9gIAESsEcAY7vw14YZ8ypVqthLxIOrAiVQ4KG2+BY0RdU24aIcs3uAiFmQQHYRwE5B2MoM4lSpUiVf31zgBAo0sUsp3LBiKyFsF8RAAiSQGgFsQ44NdV955RXtlju1qzIXK5ACBVzY2VjtGCHXXnttaLPFzGFkziTgfwLwaIm9AbBaAxvpBiEEVqAAF81U7AbboUMHbv0dhKeNZcwYAbUrk9x00016p2q171/GymE140ALFG4W9htoRV111VXaFMEqAMYngWwnoLaE0hNLanPXwO3qbWnrc79W5NVXX61NELCNNdy1cItqv9YUy+U1gVWrVsmtt96qfxdly5b1Ovu088sKgQKFNm3aaJFSO8LK66+/LiVKlEgbDhMggSATWLlypcBuEC9tbPUUxJA1AgX4LVq0CImU2glWSpUqFcQ6YZlJIG0Cy5cvlzvuuEPwO4DtYFBDVgkUKqFp06YhkcKbo0yZMkGtG5abBGwRwKa5d955pxanoD//gR8kj1WDjRo1EiyNwZjU9u3bY0XhMRLISgKLFy/WG2xgB9+gixMqKCsFCjfWoEEDGTt2rJ7dg29lBhLIdgILFy6UgQMH6u3FS5cunRW3m7UChdqpW7eudtcC38rwFMhAAtlKYMGCBXLfffdpcTr++OOz5jazWqBQS7Vq1dIeAuEpcPPmzVlTcbwREjAJzJ8/XwYPHqzF6bjjjjMPZ8XfrBco1BI8BMKFcJcuXWTDhg1ZUXG8CRIAgQ8++EA7c8SYUzbOWueEQKEiq1Wrpldvd+vWTdatW4dDDCQQaALz5s2TBx98UO+CVLJkyUDfS7zC54xAAQBcS2ChZO/evWX16tXxmPA4CfiewNy5c2XkyJFanLLZKDmnBApPHRZKwtK8X79+smzZMt8/iCwgCUQTmD17tjajQbfu2GOPjT6dVd9zTqBQezD7R+XCmA2zHwwkEBQC77zzjowaNUobYRYvXjwoxbZdzpwUKNCCEdubb76pZz/ef/992wB5IQl4ReDtt98W7BOJ5Su5IE7gmnVLXaw8LJiShUjBVcuBAwekefPmVi5nXBLwjMCsWbPkqaee0uJUrFgxz/LNdEY5LVCAjwFGiFS7du200zt4RWAgAT8ReOutt2TixIlanI4++mg/Fc31suS8QIEw/Eeh2QyLc7Sk4F+KgQT8QABjpf/85z/1xM5RRx3lhyJ5WoacHYOKpow3E7wfvPTSS3oTw+jz/E4CXhPA8/jMM8/o5zIXxQm8KVBhT13RokVl+vTpMnPmTP1ghJ3iRxLwlADs9bAVOUQqV8UJwClQUY9d4cKFdSsKM3vjx4+POsuvJOA+AWwJhZY8fIjjpZnLgQIVo/YLFiyo315wmTp69OgYMXiIBNwhAGFCKx7/ihQp4k4mAUqVAhWnsgoUKKAHJzdt2iQPPfRQnFg8TALOEcCCdqxyoDj9xZQC9ReLPJ/y588vTz/9tPzwww/aoDNPBB4gAYcITJkyRY99YjtyDDMwHCFAM4MkT0K+fPm09e7dd9+tXanClbDb4auvvpItW7aEstm1a5fs2LFDPvzww9AxfDj//PMF3VEG6wR+/vlnWbNmTcSFOBbNuEaNGnLiiSdGxHP6y3PPPSdYwoLuXaFChZxOPtDp5TNUCPQdeFj4IUOGCB5iLDeAcLkV4EbjkksuCS0ERRXt27dPTCO9w4cPy59//smNStOogL1792r7t3A3Jb/99lvEnoqoa7iLPuWUU9LIKfGlsHF67733tGkLXzYxWEGgGFInoMajjBtvvNE4dOhQ6hdZjKkEyKhSpQpeHDH/KaEylGWxxVQZPZpA165dDfWiickY7C+88MLoSxz9jjpUnl4N9bJxNN1sSoxjUDFEO9EhOKU/7bTTpHv37qJEKlFU2+fQOuvTp0/cKWa89a+77jrb6fPCIwQGDRoUd884+PUeOnSoa6gmTJggH330kZ4tZsspPmYKVHw2cc/0799fzjnnHC0SBw8ejBsvnRM9e/aM6cIV4nX55ZfHFa908sy1a6tWrSqVlBPDWAHucy+44IJYp9I+hkW/2B4KA+MUp8Q4KVCJ+cQ9e9NNN+lNQrEZA9bvOR2wPrBZs2Z5xrqwSyxacQzOEEArKXwcCqnCchsvITfCE088IStWrBAMjMOUhSExAQpUYj4Jz8K/edu2bfUi4/379+eJi9m47777Ls/xVA/cf//9eTZfPPXUU6VChQqpJsF4SQhceumleQQKrSc1PpXkyvin0X37/fff80TA5MrHH3+sdxmiOOXBE/MABSomltQPdurUSTp37qx9SoU/lDATOOOMMwQzf3ZD9erVpWLFiqHL4b/KzXGRUEY59AFdZjXpEbLaxvdWrVrZXv/2448/ys033yxNmjTRM68mSqxI+PTTT7XxL+zrGFIkkE0j/pm8F+Wzx1CmAcaePXsMNTVtqLENPTt08sknG8pEwHbRlKMyQ/md1mlhZg8zfAzOEvjll1+MsmXLasbK5sn4+uuvbWegdlkxlKGl/qfGKXXdK9s5o1evXq7O/NousM8vFJ+XL1DFU8Z2RqNGjbQ4qTexfuDTNQmAOYPa6MFQXQJjzJgxgeIRpMJ27NhR19e5555ru9h4eagWr05HtQ+0SKnuuKEmPPhisUmVAmUTXKzLdu7caSijvtADiocU/9S4UazoKR9T0+E6HWVImPI1jGiNwPr16zXjOXPmWLswLDauVeNXEfWPF0vDhg0NNUYZFpMfUyVAgUqVVJJ4auzBUDsYG2p8IeIBhUApmxpDTSsnSSH+aaR92223xY/AM44QuOGGG9Jq6aD1bL6Uwv8qrwSGWpZEkbJRS1zqop6kdMOvv/4qDRo0kC+++CKu8ebFF18s6g2bNCvYVa1atUob8X377bd6DR6WYMCUAc7yMSWuxrWkVq1aoiyd9eekiTJCHgKoK2wbvnHjRtm2bZugDrGcCP6XsGOKGpMS2ElhsLtmzZp5zD2iE/z++++lXr16sn379uhT+jtcp5QvX14+++wzLgaOSSj2Qa40jc3F0tGlS5cKHlBMT2Nhb6yA7dax4DfewlP8UGDAh3V4f//73+Wyyy7TM4OYxQufksYPCT+u+fPnC2yw1EtJG4x26dIlNBMVK38eE72OctKkSdqdCUQeG2TAnABCFO618o8//hA1UC7wBzZs2DAtYldccYXA9g17KsYKmKVTXfxYpwRW6XixYLYXLxp6K4iJKfZBG60uXhKHgNqp2FBbWOkZIQyOK+KhfxiLUBuF5rkSM35q2YyhfiyGEh1DtaDyxEl0QLmCMZR9jR7nUP6EOFMUAxZmUTGTdt555xnTpk3TM60xosU9hOvV5gWGak0ZGA/ErF94wFo6TGSE1ze6dZgZVCYLxqJFi8Kj87MFAhyDsgAr1ahqpbyhVqkbqhtmYNranNFTb19DvUF1Mpide/LJJ/Wsn1qTlWrSceMhT2VzZaiupKFaY3Hj5doJsMXMHBbmWhX/WKyUMzlDtXAN5bc+dFq55jUgSBCo0qVLG9WqVTMeffRR46effgrF4Qd7BChQ9rilfJXqjhmqa2BAnPAAq6UO+g2OlpbqPjjyowkvzIYNGwy1hsxQnhnDD+fk50ceecRQlv4GWplOBti6wRPC7bffrusPdk8QKLVG0lDdfSezyvm0OEiuVMOLgMFvuHL98ssv9QC4mpWT1q1bu5I1lt1gfAo7JmPcIxcD1iuCORwMwjrcjaDs0vSEBsYM4V1CGdS6kU1Op0mbe4+qH6vWr732Wj2L07dvX9fECbeDmShsWwQPjQsWLPDoDv2TDZzAYTJBdbNcEyfcLRYUY4Zv9+7dFCeXqp8tKJfAxkoWPxjM4sAPkRcB68LQSsOuyfFmn7woh5d5YObtvvvuk3//+9+euTLBiwct1ZYtW3p5q7mRV853cj0CoGybDPUAp2UIaKeomFnE2EgurOHDRAEGxJXJhx1Utq9RrTU9i6rMSGynwQtjE2AXz4P3EDxvqgFVgRsOt8ZD4t0GHOudeeaZursXL062HH/ggQcE3WcYWXoZYNj58MMPy4ABA7zMNifyokB5UM3PP/+8bv7DkjgTAV0eZdIQ4f4jE+VwM08YVmKXFrXo181s4qZtet9ULda4cXjCOgGOQVlnZukKzCSpNVqCrdTDrZUtJeJAZFhQw0IaLYxsDMqdiai1dKK6eBm7PTgoxOysspHKWBmyLWO2oFyuUeXPSVq0aGFLnNS4kfZdHV1ErM2zGjANjk0hVU/f6qW+j68MIrX5RibFCZCUvy5dz1iKxOAMAQqUMxzjpoKp/uuvvz7u+UQnsBW2Wp4hyjAwFA17qGFdl1puETqWygeYHmAx6/Lly1OJHooTBEHDLGX79u1DZc7kB7wIUOcMzhCgQDnDMWYq6N5hdTsW/NoJ7777rsAHOQZhzaDWhOnFpyVKlDAPpfwXJgdIM1lAyw3T9Gp9mShPocmiZ/w8duVNx+gVXgywvX30Pzst1aZNm+bZnTjjgAJcAAqUi5Wnlp3oGTS7WcBjAdx9hAdszd24cePwQyl/hsVzohYUdtIdMWKE7qrArgeeGYLQgoKXCDu7/2J3ZowZwY0NvExE/8MMqNWAlipmapE2Q/oE6G4lfYZxU9i8ebNuAcWNkODEpk2btJ+icIHCD1F5fpRbbrklwZXxT6HVFatVAGf+cCuycOFCgXEnjEkR8GPze0Drx9wS3mpZsRxm69atMnfuXMGGFHCpEt5itGvcqvzRC3x5qUXDVovE+FEEKFBRQJz8ih87fAHZCWgpIYS3ltCiQrjooov0Xzv/mXZY6H6iu4gWExy2oXsTxIABcjuMsQMP/mFJEJhgI03lEVVq166dNgbl0UALfdoJMQGhQLn4EGAsx+4WQxAjPOhwrGYGmCpg4078kLC8AvZVVp2f4cc4atQobVRYqFChhF0RdFNgnoAWhl8D7scOY7S6xo8fH7otmAbUrVs39D2dDyhPELrG6dyjV9dSoFwkjYfUbLFYzQYtKLRyYIUOj5owQsRutHDzi4WwaJ1ZFSeUAWXCrCIMG5VLFt3li9XtQ1wscMb6Muxw7NcAL5aTJ09Ou3jo2qkto9JOx0yAAmWSSO8vBSo9fgmvxhgOxkisBtjRwIVwmTJl9M7FmMnDDsVjx47VSyrgSiWdrbnRMoNlOXa6TdTNg7hiJq9GjRpWb8Gz+LgXO4zDCwjemNBwqgUFdzdBGL8LZ+DXzxQoF2sG3TMMPFsN5ljTJ598oltLGGPBDxEBvsrRNUNXz2rAWz38zY4W0tVXX63/xRsot5qH1/HBJp4f+FTLgu4dbMtgaOlEUG6cI7rmTqSZq2nQzMDFmsci3bVr11rOAd07tJqw6PW0004LiRMSwnS6HXHCtXCWV0nNMMUKKKtyXSuff/65DB48WNtuoYsZLmixrsv0MXO8B11hu0H5DNcbVdi9Pvo62L7ZraPotHL9OwXKxScAdjV4WK3+eCBQGGtyOmCbJXNRa7y00ZKAvyqsK0P3LwhT5eiarVixIt4tJT2O3XQgzk4EdMW99qbgRLn9mgYFyuWagSBg9i3VABskdOHatWuX6iUpx4PgoIuYSkDLBNbZZ511VirRMxpH+R1PS2AgKMccc4wj9zBjxgw9buhIYkxEKFAuPwTYdw1T9akGzMxhhs3pmTMYjWJqPRu7HvAWsWTJkrQHy1Oto3jx0B2GQMHgk8EZAhQoZzjGTQVjSXhwYQGeyQCHanCal40BrT24WlFbS2X09mC2gbV4di3bM1p4v2aufjwMLhNQM2Ta7a7L2cRNXtlQGeqtHvd8NpzAfoNw96s2MMjI7SjTAu32V61nzEj+2ZopW1AevDmw8wcGm7GswuuAAXrYTD322GNeZ+1pfhi3Gzp0aMbc7g4fPlzgNM+OlwlPQQUsMwqURxUGK+Vx48Zpg0uPstTZIF/sj+eUjY+XZbeal9pVWVvXo6vlZYCtG+zI7Pr98rKsgcsrW5uGfrwvZRNlKPMBQ1k+e1K8t99+21CO3HJiRxcTKHZ2wc7KaszPPOTqX+wg07BhQ0MtuXE1n1xNHAO4DB4SULM8RocOHRzf8jz6FlavXq1/qNimO9cCtptXvpxc335KeTU1lLcJA6wZ3CHALp7HbV50t9AVgZ1TuCtfJ4sB7wP9+vXTY15O2fc4WT4304IHhnvvvVfUS0CuvPJKvZOzG/nBIBN2Yhj3qlOnjhtZME0QcEf3mGoyAspNraE8XBrKujtZ1JTPo3tzxx136G6d8pOU8nXZEhEzeWptoaG8PuhbUvZkhvKdZahF0YaaLHDsNpWveEP5ijfUWknH0mRCsQmwBZWh91Tz5s2198apU6fqvdzS2QkEfqemTJmibXDq168v06dP14tfM3RrGckWLadOnTpp9zCwiULAukP4YMeawiZNmsjs2bP1cbv/wRgUrV94PpgzZ04grOzt3qtfruO+eD6oCbUtuvZFBCtyWCFjmyqsiUsW4O0Afozww8MSlj59+ji2ZCNZ3n46H0ucossHd8kwVgUztRW8tGnTRipXrhwdLc93uL3B1mFYJoSF2tgENZXr8iTEA7YIUKBsYXPnIizQheCo2TftJRKmAXDZgn8YS8LCY/xg8A8tLnggwDo0LIvJ5Kag7tBILdVUxCk8JWwMAb7gDI7Vq1fXfLEeD/634AgQx+EGGYxh1wQxwwsgG5cJhbPx42cKlB9rRZUJXi7h0B8/Fqyjg0sQtK4gVvgx4S+WeORysCpO0axwvckYnOFXCpsnmHzhrK9IkSLRl/G7hwQoUB7CtpsVfkR33XWXvPjii3aTyLrr0hWnrAOSpTeU26/gLK3UbL8tilO21/Bf90eB+osFPwWAAMUpAJXkYBEpUA7CZFLuEqA4ucvXj6lToPxYKyxTHgIUpzxIcuIABSonqjnYN0lxCnb9pVN6bjuVDj1e6zoBU5xatWpFdyau0/ZfBmxB+a9OWKL/E6A48VGgQPEZ8CUBipMvq8XzQlGgPEfODJMRoDglI5Q75ylQuVPXgbhTilMgqsmzQlKgPEPNjJIRoDglI5R75ylQuVfnvrxjipMvqyXjhaJAZbwKWACKE5+BeAQoUPHI8LgnBChOnmAObCYUqMBWXfALDnG69tprhUaYwa9Lt+6AAuUWWaabkIApTtgZhRteJkSV0ycpUDld/Zm5eYpTZrgHMVcKVBBrLcBlpjgFuPIyUHQKVAag52qWFKdcrXn7902Bss+OV1ogQHGyAItRQwQoUCEU/OAWAYqTW2SzP10KVPbXcUbvkOKUUfyBz5wCFfgq9O8NUJz8WzdBKRk9agalpgJWTlOcsCPvddddF7DSs7h+IcAWlF9qIovKQXHKosrM8K1QoDJcAdmWPcUp22o0s/dDgcos/6zKneKUVdXpi5uhQPmiGoJfCIpT8OvQj3dAgfJjrQSsTBSngFVYgIpLgQpQZfmxqBQnP9ZK9pSJApU9den5nVCcPEeecxlSoHKuyp25YYqTMxyZSmICFKjEfHg2BgGKUwwoPOQKAQqUK1izN1GKU/bWrR/vjEtdLNaKYRjy/fffy6ZNm+Srr76SgwcPWkzBevSff/5ZNm/eLBMnTrR+sY0rSpUqJaeeeqr+d/TRR4dSoDiFUPCDRwQoUBZAz58/X+6//34pUKCA1K9fX2rVqiXFihWzkIK9qIcOHZJChQpJiRIl7CVg8apt27bJrFmzZM2aNdK8eXMZNGiQvk9scMC1dRZhMnpaBChQKeBDqwk/UrRiXnnlFTn55JNTuMq5KFu3bpVFixZJx44dnUs0xZRmzJghl156qRbHzp07c+FvitwYzRkCHINKgeOjjz4qhQsXlldffdVzcUqheK5GadOmjZxwwgnyzTffyMUXX+xqXkycBKIJsAUVTSTq+/r16+WDDz6Q//znP1Fnsv8rxpyuueYaufrqq+X000+Xvn37ClpUDCTgFQEKVBLSw4cPF7Sg8uXLlySmc6enTp2q94orW7asThRjUHv27Am13g4fPiw7duwQCEjBgu5UoSlOl19+eahbV7x4cVm1apXUq1fPuZtlSiSQgAC7eAng7N+/X8/YnXnmmQliOX+qffv2WowwWI1/P/zwg+zbt09/xvddu3bJnXfe6bo4oXsX7myua9euupvr/B0zRRKITYACFZuLPvr111/rrk2CKK6cKlq0qFxxxRWSP3/s6ilTpozccccdruRttpwgTl26dInI4+yzzxZ0eRlIwCsCsX8BXuXu83zQggq3A/KyuHfffbcenI6VZ+3ateXEE0+MdSqtY4nECQmDBZgwkIBXBChQXpG2mE/58uW1oWT0ZaVLl5Zhw4ZFH077ezJxQgYwt2AgAS8JUKC8pG0xr6FDh8pxxx0XcdXxxx8vDRo0iDiW6heMYy1YsCBP9FTEKc9FPEACHhCgQHkA2W4WF154oWDZiRlgtY7BcbvhxRdflAsuuEDmzZsXSoLiFELBDz4kQIHyYaWEF6lfv36CQXOEkiVLCqy57YYxY8boS7FkBSJFcbJLktd5RYAC5RVpm/l0795dLzOBHRZm9ooUKWIrpXXr1snOnTv1tTBbgAFm06ZNJdZsna0MeBEJuECAAuUCVCeTRLcOXT0EzOzZDQ899FBIoJAGxOqTTz4JGX/aTZfXkYCbBChQbtJ1KO0HH3xQqlevLuXKlbOV4t69ewWeGKLDr7/+KmZ3L/ocv5OAHwi4s07CD3cW4DJgbGjt2rWyZcsWbckO/1ONGzeWkSNH6hYPlsDUrFlTTjnllJTucsqUKQKfUrECunuwXJ82bZq0aNEiVhQeI4GMEaBAZQx9ZMZwfPfuu+/Ka6+9psXp/PPP160muHaBBTfWwW3fvl0L1sqVK2XcuHGye/du7Z+pQ4cOUrVq1cgEw74hLkwMYgWYLWBcC873GEjAbwQoUBmuESz8hY+pp556Spo1ayb9+/fXghSrWGeddVbE4d9++02LGkwPIGBDhgyRKlWqRMRZvXq1FrLwg3AdA2GqU6eO9nN17rnnhp/mZxLwDQEKVAarAoPUt99+uzRq1Ehmz54txxxzjKXSIH67du30vxUrVkjv3r2lYcOGMnDgwJBpAsavsLgYAUaf8MrZo0cPHTfaCNRS5oxMAh4QoEB5ADlWFuh2wcfUM888I5UqVYoVxdKxv/3tbzJnzhx59tlntQdM/MWi4jfffFOLEs7DKyjGsrx0HWPpJhiZBKIIUKCigHjxFZ4I4KkAAhXPY4HdcnTr1k0wfgWDzhtuuEFuvfVWLUwQKwYSCBoBCpTHNQbndxiUhl2SWwE7srz++uu664dBd4qTW6SZrtsEaAflNuGw9OfOnSvLli2TESNGhB115yNm/8aPH68dzh04cMCdTJgqCbhMgALlMmAzedgbYZYNY0NejQHBPAFdPWyVxUACQSRAgfKo1m677TZ55JFH5Nhjj/UoxyPZwE0vtsvCLB8DCQSNAAXKgxrDMhN4o4Q5QSbC448/Lvfccw8dzmUCPvNMiwAFKi18qV2MnWEeeOCB1CK7EAveOc855xy9W7ALyTNJEnCNAAXKNbRHEl6+fLlUrlw5414D0MWEtToDCQSJAAXK5dp6/vnnpWfPninlsmHDBoGgmb6/N23a5NguKthkAVbk2KmGgQSCQoB2UC7X1Jo1awRW3IkC3KFcf/31gq4YPBhgrRyWocDdL9bpYSYO/snTDXB4N2vWLIGXTgYSCAIBtqBcrKVvvvlGd++SZQFHdLAAh0teDGZDlGBhjnV63377rfz444/JkkjpPPyRL1q0KKW4jEQCfiDAFpSLtfD5559LKrsSYzFvy5YtdUm2bt2q/2JHX7SiNm7c6MhaPSQK/1HYmZiBBIJCgALlYk3BOPOkk05KmgNaTGZYsmSJtpWqW7euPhTtPsWMZ/ev02v/7JaD15FAKgTYxUuFks048IyJ8SQr4f3339eLfQsUKGDlspTjemXFnnKBGJEEEhCgQCWA48Qpc0YuXlpwWLd06VLBX3jIhIM5jBWZAR4J4PIXAa5T4D3zjTfekJkzZ2rndvAHtX79ejM6/5JAVhGgQLlYnWgFHTp0KGEOo0eP1k7mYF7wxBNPaKHCbB7CqlWrBF4zsfAXLoFnzJihXfxiVu+7777Tg+oY4zL3u0uY0f9PJhPMVNJgHBLwigDHoFwkDTcnyVo3Z5xxhh5zgr3Ujh079MYIWLP30UcfaR/kzz33nC7h77//Ln379tU+y5s0aSK33HKLPg5bqQoVKqR8F2ipMZBAUAhQoFysqdNPP123ehJlgdk7zNxhdg1bSyFgBg8tL7MlhWNYZNygQQPp06ePdteLYxjjghfNl156Sfbs2aP9kuN4vIBB+9KlS8c7zeMk4DsC7OK5WCXYaQUtnGQBvsVNcUJcdOnCxcm8HvvYffzxx9ptL459+OGHUqhQIalfv77cfPPNZrS4fxcuXKi7k3Ej8AQJ+IwABcrFCsGMGVpR2HbciQBxqlixolSrVk0nBxOEo446Snf37rrrrqRZYJC9devWSeMxAgn4hQC7eC7XBLprcFJnZSA7XpHgrgU7wZgBLTR8L1q0qG5Jmcdj/cXGnRhYr1GjRqzTPEYCviTAFpTL1YJdVGLtTWcnWxhZRm9Nhf3w0M1LFuDJINVFy8nS4nkS8IoABcpl0ujmYWNNL/yQx7sVLKXBrsWwoWIggSARoEB5UFsY94Hb3fDumQfZhrKAQA4bNkzcsk4PZcQPJOAwAQqUw0DjJQcjTNgx7d+/P14UV45jYBzLbS666CJX0meiJOAmAQqUm3TD0sbsG2yYIFJehS+//FJGjRolsFZnIIEgEqBAeVhr7du31y5UsImB2wGzdnCCh63VixUr5nZ2TJ8EXCFAgXIFa/xER44cqdfYoWXjVti+fbtes4e8sMswAwkElQAFyuOag6kA1t1hZu2aa65xzFumeRvvvPOOwLXv2LFjM7bNlVkW/iWBdAnQUDNdgjaux2waWjfz5s3Tlt3oivXo0SOtWTZshgB3wdgYASJVsmRJGyXjJSTgLwJsQWWwPpo2bSpwUIdNE+ADasKECZZc8sIzAXyM9+7dWw/ADxgwQCZNmkRxymCdMmtnCbAF5SxPy6lhmQo2R4CV98svvyxdunTRpggtWrTQ40dly5bVi4dhQY6xJXg9gAM7CNOyZcu0sKEF1rBhQ8t58wIS8DsBCpRPaghLVnr16qX/YRcX+CbHji4w7oQowXEd9raDpwP8u+mmm2TixIlpdQt9cussBgnEJUCBiosmcyewm0urVq0yVwDmTAI+IcAxKJ9UBItBAiSQlwAFKi8THiEBEvAJAQqUTyqCxSABEshLgAKVlwmPkAAJ+IQABconFcFikAAJ5CVAgcrLhEdIgAR8QoAC5ZOKYDFIgATyEqBA5WXCIyRAAj4hQENNn1SE3WJgQ4bFixfry7G5Z6dOnSKsy6dNmyYHDhwQ+EbHX3hQQDwGEggCAQpUEGopQRlLlSqlN/nExp1Yo4etpQYNGhS6Amv4xo0bp5fNDBkyJKUdYEIX8wMJZJgABSrDFZBu9pUrVxb8w7o8bOSJzRGaN28u9erV00m3bdtWb+6JhcXYo4+BBIJEgGNQQaqtBGWFj6mpU6fqTTw7d+4s+/btC8XG7sP4x0ACQSNAgQpajSUoL1pS8KS5YcMGufvuuxPE5CkSCAYBClQw6inlUnbt2lXQrXvyySdlzpw5KV/HiCTgRwIUKD/WSpplmjx5spxwwgkCsYJvKQYSCCoBClRQay5BuUuXLq23m8KsHhzbMZBAUAlwFi+oNZek3HB4d+ONN+rZPWykUL169SRX8DQJ+I8AW1D+qxPHSoS99yBM6PIxkEAQCVCgglhrUWU+ePCg9l3+yy+/RJzBjsIvvPCCFCzIhnIEGH4JDAEKVGCqKnZBX3/9dalZs6YeDD/77LO11Xh4zAYNGsjgwYP1fnnhx/mZBIJAgK/WINRSgjJeddVVgn+Jwv3335/oNM+RgG8JsAXl26phwUiABChQfAZIgAR8S4AC5duqYcFIgAQoUHwGSIAEfEuAAuXbqmHBSIAEKFB8BkiABHxLgALl26rxX8HgNpiBBLwkQIFKQLtQoULaj3eCKDl1Cj7NwYSBBLwiQIFKQLpChQqyefPmBDFy69TGjRu1e+HcumvebSYJUKAS0MfuJ+jWbNu2LUGs3Dk1ffp0ueyyy3LnhnmnGSdAgUpSBQMGDNBr2ZJEy/rTW7ZsEWy8cMkll2T9vfIG/UOAApWkLpo2bapjvPbaa0liZu9pjD11795dHn/8ccmfn49M9ta0/+6MT1sKdYJ95aZMmSIPPfSQHDp0KIUrsifKF198Ic2aNdPO72rXrp09N8Y7CQSBfIYKgShphgsJn0vYe+6VV14RuDCpX7++1KpVSwoXLpzhkjmf/Y4dO2TlypWyfPly2bNnjzz88MPapYvzOTFFEkhMgAKVmE+es+jurF27VlatWiXr1q3LSjOEE088UQswNv8sV65cHgY8QAJeEaBAeUWa+ZAACVgmwDEoy8h4AQmQgFcEKFBekWY+JEAClglQoCwj4wUkQAJeEaBAeUWa+ZAACVgmQIGyjIwXkAAJeEWAAuUVaeZDAiRgmQAFyjIyXkACJOAVAQqUV6SZDwmQgGUCFCjLyHgBCZCAVwQoUF6RZj4kQAKWCVCgLCPjBSRAAl4RoEB5RZr5kAAJWCZAgbKMjBeQAAl4RYAC5RVp5kMCJGCZAAXKMjJeQAIk4BUBCpRXpJkPCZCAZQIUKMvIeAEJkIBXBP4HAHpEGVlB2jYAAAAASUVORK5CYII=)"
   ]
  },
  {
   "cell_type": "markdown",
   "metadata": {
    "id": "S_TR6L5F02yI"
   },
   "source": [
    "### ***Question 1.2.7:***\n",
    "\n",
    "Implement a function that generates data points for the given model."
   ]
  },
  {
   "cell_type": "code",
   "execution_count": 105,
   "metadata": {
    "id": "FCqgdzAO1cHp"
   },
   "outputs": [],
   "source": [
    "import numpy as np\n",
    "def generate_data(mu, tau, N):\n",
    "  np.random.seed(0)\n",
    "  D = np.random.normal(mu, 1/np.sqrt(tau), N)\n",
    "  return D"
   ]
  },
  {
   "cell_type": "markdown",
   "metadata": {
    "id": "U_y9rqkG1YMS"
   },
   "source": [
    "\n",
    "Set μ = 1, τ = 0.5 and generate datasets with size N=10,100,1000. Plot the histogram for each of 3\n",
    "datasets you generated.\n",
    "\n"
   ]
  },
  {
   "cell_type": "code",
   "execution_count": 106,
   "metadata": {
    "id": "R1hAgtsp19N3"
   },
   "outputs": [
    {
     "data": {
      "text/plain": [
       "<Figure size 640x480 with 0 Axes>"
      ]
     },
     "metadata": {},
     "output_type": "display_data"
    }
   ],
   "source": [
    "import matplotlib.pyplot as plt\n",
    "mu = 1\n",
    "tau = 0.5\n",
    "\n",
    "dataset_1 = generate_data(mu, tau, 10)\n",
    "dataset_2 = generate_data(mu, tau, 100)\n",
    "dataset_3 = generate_data(mu, tau, 1000)\n",
    "\n",
    "# Visulaize the datasets via histograms\n",
    "# Insert your code here\n",
    "\n",
    "plt.hist(dataset_1, bins=30, alpha=0.5, label='N=10')\n",
    "plt.savefig('Report/figures/1.2/dataset_1.png')\n",
    "plt.clf()\n",
    "plt.hist(dataset_2, bins=30, alpha=0.5, label='N=100')\n",
    "plt.savefig('Report/figures/1.2/dataset_2.png')\n",
    "plt.clf()\n",
    "plt.hist(dataset_3, bins=30, alpha=0.5, label='N=1000')\n",
    "plt.savefig('Report/figures/1.2/dataset_3.png')\n",
    "plt.clf()\n"
   ]
  },
  {
   "cell_type": "markdown",
   "metadata": {
    "id": "tKNgTWSg7jV7"
   },
   "source": [
    "### ***Question 1.2.8:***\n",
    "\n",
    "Find ML estimates of the variables μ and τ"
   ]
  },
  {
   "cell_type": "code",
   "execution_count": 107,
   "metadata": {
    "id": "fdfN3YtG7nYa"
   },
   "outputs": [],
   "source": [
    "from scipy import stats\n",
    "def ML_est(data):\n",
    "  mu_ml, tau_ml = stats.norm.fit(data)\n",
    "  # insert your code\n",
    "  return mu_ml, tau_ml"
   ]
  },
  {
   "cell_type": "code",
   "execution_count": 108,
   "metadata": {},
   "outputs": [
    {
     "name": "stdout",
     "output_type": "stream",
     "text": [
      "(2.043722377390312, 1.3676565361963386)\n",
      "(1.0845813067074894, 1.4253607397532255)\n",
      "(0.9359973504790137, 1.3958756795016913)\n"
     ]
    }
   ],
   "source": [
    "print(ML_est(dataset_1))\n",
    "print(ML_est(dataset_2))\n",
    "print(ML_est(dataset_3))\n"
   ]
  },
  {
   "cell_type": "markdown",
   "metadata": {
    "id": "O-SCLos97Vib"
   },
   "source": [
    "### ***Question 1.2.9:***\n",
    "\n",
    "What is the exact posterior? First derive it in closed form, and then implement a function that computes it for the given parameters:\n"
   ]
  },
  {
   "cell_type": "markdown",
   "metadata": {
    "id": "yK4Z8UZ79Qti"
   },
   "source": [
    "def compute_exact_posterior(D, a_0, b_0, mu_0, lambda_0):\n",
    "  # your implementation\n",
    "\n",
    "  return exact_post_dist_parameters"
   ]
  },
  {
   "cell_type": "code",
   "execution_count": 109,
   "metadata": {},
   "outputs": [],
   "source": [
    "def compute_exact_posterior(D, a_0, b_0, mu_0, lambda_0):\n",
    "\n",
    "    n = len(D)\n",
    "\n",
    "    # Sample mean of data\n",
    "    x_bar = np.mean(D)\n",
    "\n",
    "    mu_n = (lambda_0 * mu_0 + n * x_bar) / (lambda_0 + n)\n",
    "    lambda_n = lambda_0 + n\n",
    "    a_n = a_0 + n / 2\n",
    "    b_n = b_0 + 0.5 * np.sum((D - x_bar) ** 2) + (lambda_0 * n * (x_bar - mu_0) ** 2) / (2 * (lambda_0 + n))\n",
    "\n",
    "    return mu_n, lambda_n, a_n, b_n\n",
    "\n"
   ]
  },
  {
   "cell_type": "markdown",
   "metadata": {
    "id": "qj3Nm4NW5TZX"
   },
   "source": [
    "### ***Question 1.2.10:***\n",
    "You will implement the VI algorithm for the variational distribution in Equation (10.24) in Bishop. Start with introducing the prior parameters:"
   ]
  },
  {
   "cell_type": "code",
   "execution_count": 110,
   "metadata": {
    "id": "3BDugmmD5p2f"
   },
   "outputs": [],
   "source": [
    "# prior parameters\n",
    "mu_0 = 0\n",
    "lambda_0 = 1\n",
    "a_0 = 1\n",
    "b_0 = 1"
   ]
  },
  {
   "cell_type": "markdown",
   "metadata": {
    "id": "a5VJC2cU6PJS"
   },
   "source": [
    "Continue with a helper function that computes ELBO:\n"
   ]
  },
  {
   "cell_type": "code",
   "execution_count": 111,
   "metadata": {
    "id": "D9ZT2lVa6OkZ"
   },
   "outputs": [],
   "source": [
    "from scipy.special import digamma, gammaln\n",
    "import numpy as np\n",
    "\n",
    "def compute_elbo(D, a_0, b_0, mu_0, lambda_0, a_N, b_N, mu_N, lambda_N):\n",
    "    N = len(D)  # Number of data points\n",
    "\n",
    "    # Compute data statistics\n",
    "    sum_x = np.sum(D)\n",
    "    sum_x2 = np.sum(D**2)\n",
    "\n",
    "    # Compute expectations under q\n",
    "    E_tau = a_N / b_N\n",
    "    E_log_tau = digamma(a_N) - np.log(b_N)\n",
    "    E_mu = mu_N\n",
    "    E_mu2 = mu_N**2 + 1 / lambda_N\n",
    "    E_mu_mu0 = E_mu - mu_0\n",
    "    E_mu_mu0_sq = E_mu_mu0**2 + 1 / lambda_N\n",
    "\n",
    "    # Expected log likelihood\n",
    "    E_log_likelihood = (\n",
    "        N / 2 * (E_log_tau - np.log(2 * np.pi))\n",
    "        - 0.5 * E_tau * (sum_x2 - 2 * E_mu * sum_x + N * E_mu2)\n",
    "    )\n",
    "\n",
    "    # Expected log prior of mu given tau\n",
    "    E_log_p_mu_given_tau = (\n",
    "        0.5 * (np.log(lambda_0) - np.log(2 * np.pi))\n",
    "        + 0.5 * E_log_tau\n",
    "        - 0.5 * lambda_0 * E_tau * (E_mu2 - 2 * mu_0 * E_mu + mu_0**2)\n",
    "    )\n",
    "\n",
    "    # Expected log prior of tau (corrected)\n",
    "    E_log_p_tau = (\n",
    "        (a_0 - 1) * E_log_tau\n",
    "        - b_0 * E_tau\n",
    "        + a_0 * np.log(b_0)   # Corrected sign here\n",
    "        - gammaln(a_0)\n",
    "    )\n",
    "\n",
    "    # Total expected log prior\n",
    "    E_log_prior = E_log_p_mu_given_tau + E_log_p_tau\n",
    "\n",
    "    # Entropy of q(mu)\n",
    "    H_q_mu = 0.5 * (1 + np.log(2 * np.pi) - np.log(lambda_N))\n",
    "\n",
    "    # Entropy of q(tau)\n",
    "    H_q_tau = (\n",
    "        a_N\n",
    "        - np.log(b_N)\n",
    "        + gammaln(a_N)\n",
    "        + (1 - a_N) * digamma(a_N)\n",
    "    )\n",
    "\n",
    "    # Compute the ELBO\n",
    "    elbo = E_log_likelihood + E_log_prior + H_q_mu + H_q_tau\n",
    "    return elbo\n"
   ]
  },
  {
   "cell_type": "markdown",
   "metadata": {
    "id": "c4yCdBt46_8B"
   },
   "source": [
    "Now, implement the CAVI algorithm:"
   ]
  },
  {
   "cell_type": "code",
   "execution_count": 112,
   "metadata": {
    "id": "b2j3hem25RPA"
   },
   "outputs": [],
   "source": [
    "from scipy.special import digamma, gammaln\n",
    "import numpy as np\n",
    "\n",
    "\n",
    "def CAVI(D, a_0, b_0, mu_0, lambda_0, max_iter=1000, tol=1e-6):\n",
    "    N = len(D)\n",
    "    sum_x = np.sum(D)\n",
    "    sum_x2 = np.sum(D**2)\n",
    "    \n",
    "    # Initialize variational parameters\n",
    "    a_N = a_0 + N / 2\n",
    "    b_N = b_0 + 1  # Arbitrary initialization for b_N\n",
    "    E_tau = a_N / b_N\n",
    "    lambda_N = lambda_0 + N * E_tau\n",
    "    mu_N = (lambda_0 * mu_0 + E_tau * sum_x) / lambda_N\n",
    "    \n",
    "    elbos = []\n",
    "    \n",
    "    for _ in range(max_iter):\n",
    "        # Save current ELBO to check for convergence\n",
    "        prev_elbo = compute_elbo(D, a_0, b_0, mu_0, lambda_0, a_N, b_N, mu_N, lambda_N)\n",
    "        \n",
    "        # Update mu_N using current E_tau\n",
    "        mu_N = (lambda_0 * mu_0 + E_tau * sum_x) / (lambda_0 + N * E_tau)\n",
    "        \n",
    "        # Update lambda_N with the new E_tau\n",
    "        lambda_N = lambda_0 + N * E_tau\n",
    "        \n",
    "        # Update E_mu2 and E_mu_mu0_sq with the new mu_N and lambda_N\n",
    "        E_mu2 = mu_N**2 + 1 / lambda_N\n",
    "        E_mu_mu0_sq = (mu_N - mu_0)**2 + 1 / lambda_N\n",
    "        \n",
    "        # Update b_N with the new E_mu2 and E_mu_mu0_sq\n",
    "        b_N = b_0 + 0.5 * (sum_x2 - 2 * mu_N * sum_x + N * E_mu2) + 0.5 * lambda_0 * E_mu_mu0_sq\n",
    "        \n",
    "        # Update E_tau with the new b_N\n",
    "        E_tau = a_N / b_N\n",
    "        \n",
    "        # Update ELBO with the updated parameters\n",
    "        elbo = compute_elbo(D, a_0, b_0, mu_0, lambda_0, a_N, b_N, mu_N, lambda_N)\n",
    "        elbos.append(elbo)\n",
    "        \n",
    "        # Check for convergence\n",
    "        if abs(elbo - prev_elbo) < tol:\n",
    "            break\n",
    "    \n",
    "    return a_N, b_N, mu_N, lambda_N, elbos, _\n"
   ]
  },
  {
   "cell_type": "markdown",
   "metadata": {
    "id": "tQfC9K0f8BxQ"
   },
   "source": [
    "Run the VI algorithm on the datasets. Compare the inferred variational\n",
    "distribution with the exact posterior and the ML estimate. Visualize the results and discuss your\n",
    "findings.\n"
   ]
  },
  {
   "cell_type": "code",
   "execution_count": 113,
   "metadata": {
    "id": "suTTO1IJ9y-k"
   },
   "outputs": [
    {
     "name": "stdout",
     "output_type": "stream",
     "text": [
      "[-183.6607493166583, -182.18673854098688, -182.18682337893082, -182.1868244236176, -182.18682443380908, -182.18682443390833]\n",
      "5\n"
     ]
    },
    {
     "data": {
      "image/png": "[encoded data removed]",
      "text/plain": [
       "<Figure size 1000x600 with 1 Axes>"
      ]
     },
     "metadata": {},
     "output_type": "display_data"
    },
    {
     "name": "stdout",
     "output_type": "stream",
     "text": [
      "(1.0738428779282074, 101, 51.0, 103.16499687736406)\n",
      "1.0628691750549684 49.95277866148911 51.0 104.1820329689298\n"
     ]
    },
    {
     "data": {
      "text/plain": [
       "<Figure size 640x480 with 0 Axes>"
      ]
     },
     "metadata": {},
     "output_type": "display_data"
    }
   ],
   "source": [
    "# Insert your main code here\n",
    "\n",
    "\n",
    "# Example flow for dataset_2:\n",
    "  ##  mu_ml, tau_ml = ML_est(dataset_2)\n",
    "  ##  a_N, b_N, mu_N, lambda_N, elbos = CAVI(dataset_2, a_0, b_0, mu_0, lambda_0)\n",
    "  ##  plot elbos, show convergence\n",
    "  ##  exact_post_dist_param = compute_exact_posterior(dataset_2, a_0, b_0, mu_0, lambda_0)\n",
    "  ##  compare exact_post_dist with the CAVI result ( = q(a_N, b_N, mu_N, lambda_N) ) using for ex. contour plots, show also ML estimate on this plot\n",
    "\n",
    "mu_ml, tau_ml = ML_est(dataset_3)\n",
    "a_N, b_N, mu_N, lambda_N, elbos, iter = CAVI(dataset_2, a_0, b_0, mu_0, lambda_0, max_iter=1000, tol=1e-10)\n",
    "print(elbos)\n",
    "print(iter)\n",
    "\n",
    "plt.figure(figsize=(10, 6))\n",
    "plt.plot(range(iter+1), elbos, label='ELBO', color='blue', marker='o', linestyle='-')\n",
    "plt.xlabel('Iteration')\n",
    "plt.ylabel('ELBO')\n",
    "plt.title('ELBO vs Iteration')\n",
    "plt.grid(True, which=\"both\", ls=\"--\")\n",
    "plt.legend()\n",
    "plt.show()\n",
    "plt.savefig('Report/figures/1.2/elbos.png')\n",
    "plt.clf()\n",
    "\n",
    "exact_post_dist_param = compute_exact_posterior(dataset_2, a_0, b_0, mu_0, lambda_0)\n",
    "print(exact_post_dist_param)\n",
    "print(mu_N, lambda_N, a_N, b_N)\n",
    "\n",
    "\n"
   ]
  }
 ],
 "metadata": {
  "colab": {
   "provenance": []
  },
  "kernelspec": {
   "display_name": "Python 3",
   "language": "python",
   "name": "python3"
  },
  "language_info": {
   "codemirror_mode": {
    "name": "ipython",
    "version": 3
   },
   "file_extension": ".py",
   "mimetype": "text/x-python",
   "name": "python",
   "nbconvert_exporter": "python",
   "pygments_lexer": "ipython3",
   "version": "3.12.0"
  }
 },
 "nbformat": 4,
 "nbformat_minor": 1
}
